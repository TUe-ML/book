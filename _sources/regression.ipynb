{
 "cells": [
  {
   "cell_type": "markdown",
   "id": "b3d916e7",
   "metadata": {},
   "source": [
    "# Regression\n",
    "Recommended Literature:     \n",
    "If you want to read up further on this topic, the following material is recommended.\n",
    "**Bishop. Pattern recognition and machine learning. 2006.**\n",
    "Sections 3.1 _Linear Basis Function Models_ and 3.2. _Bias-Variance Decomposition_     \n",
    "\n",
    "**Friedman, Hastie, and Tibshirani. The elements of statistical learning. 2001**\n",
    "Sections 2.6 _Statistical Models, Supervised Learning and Function Approximations_ and Section 2.9 _Model Selection and Bias-Variance Tradeoff_\n",
    "\n",
    "Section 3 _Linear Methods for Regression_ (in particular Subsections 3.1 and 3.2)"
   ]
  }
 ],
 "metadata": {
  "kernelspec": {
   "display_name": "Python 3 (ipykernel)",
   "language": "python",
   "name": "python3"
  },
  "language_info": {
   "codemirror_mode": {
    "name": "ipython",
    "version": 3
   },
   "file_extension": ".py",
   "mimetype": "text/x-python",
   "name": "python",
   "nbconvert_exporter": "python",
   "pygments_lexer": "ipython3",
   "version": "3.9.13"
  }
 },
 "nbformat": 4,
 "nbformat_minor": 5
}
