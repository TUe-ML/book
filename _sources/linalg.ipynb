{
 "cells": [
  {
   "cell_type": "markdown",
   "id": "91f4b29b",
   "metadata": {},
   "source": [
    "# Linear Algebra \n",
    "\n",
    "## Recommended Literature\n",
    "The content of this linear algebra chapter is tailored to the needs for the following topics. If you want a more general and extensive overview, the following material is recommended.\n",
    "\n",
    "* Linear Algebra and Optimization for Machine Learning by Charu C. Aggarwal\n",
    "Chapter one, in particular Sections 1.1-1.3 give a good introduction to vector spaces and matrices, norms and matrix multiplication. If you want to go deeper into the subject of linear algebra, then I would recommend to have a look at the Sections 2.1-2.4 and 7.1 and 7.2 as well.\n",
    "* The Course Linear Algebra and Applications (2DBI00) from Michiel Hochstenbach\n",
    "Michiel is giving a very good course at TU/e about linear algebra and applications, where the applications are often data mining/machine learning problems. You can see the video lectures of 2018/2019 at the \\href{http://videocollege.tue.nl}{videocollege}. Search for 2DBI00 in channels (not videos!). Select 2018-2019 to watch the latest recorded videos."
   ]
  }
 ],
 "metadata": {
  "kernelspec": {
   "display_name": "Python 3 (ipykernel)",
   "language": "python",
   "name": "python3"
  },
  "language_info": {
   "codemirror_mode": {
    "name": "ipython",
    "version": 3
   },
   "file_extension": ".py",
   "mimetype": "text/x-python",
   "name": "python",
   "nbconvert_exporter": "python",
   "pygments_lexer": "ipython3",
   "version": "3.9.13"
  }
 },
 "nbformat": 4,
 "nbformat_minor": 5
}
