{
 "cells": [
  {
   "cell_type": "markdown",
   "id": "c0a79072-0be3-4f5f-81c0-2c581ddc1232",
   "metadata": {},
   "source": [
    "# Classification\n",
    "Recommended Literature:\n",
    "\n",
    "**Bishop. Pattern recognition and machine learning. 2006.** Sections 4.1. Discriminant Functions, 4.2. probabilistic Generative Models, 6.1. Dual Representations, 6.2. Constructing Kernels, 14.2. Committees, 14.3. Boosting and 14.4. Tree-based Models."
   ]
  }
 ],
 "metadata": {
  "kernelspec": {
   "display_name": "Python 3 (ipykernel)",
   "language": "python",
   "name": "python3"
  },
  "language_info": {
   "codemirror_mode": {
    "name": "ipython",
    "version": 3
   },
   "file_extension": ".py",
   "mimetype": "text/x-python",
   "name": "python",
   "nbconvert_exporter": "python",
   "pygments_lexer": "ipython3",
   "version": "3.9.7"
  }
 },
 "nbformat": 4,
 "nbformat_minor": 5
}
