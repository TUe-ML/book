{
 "cells": [
  {
   "cell_type": "markdown",
   "id": "8671ab15",
   "metadata": {},
   "source": [
    "# Low Rank Matrix Factorization\n",
    "\n",
    "```{figure} /images/dim_reduction/Netflix_Screenshot.png\n",
    "---\n",
    "height: 300px\n",
    "name: netflix\n",
    "align: center\n",
    "---\n",
    "Low rank matrix factorization can be used for recommender systems like Netflix\n",
    "```\n",
    "Netflix gained its big popularity back in the days because it focused on its recommender system strength. They personalized content discovery, ensuring users stayed engaged by always having something new to watch. The task of _recommendation_ is unsupervised, we don't know the ground truth recommendations, as opposed to supervised tasks, where we have a label or target variable.  All we have are past user ratings, from which we try to derive common patterns that allow us to provide recommendations.    \n",
    "\n",
    "Let's go through an example to get a clearer understanding of the recommender task. Imagine we represent all users and movies in a matrix, where each entry corresponds to a user’s rating for a movie. Then we get a massive, sparse matrix (since most users have only rated a small fraction of available movies). The challenge is to predict the missing ratings so that Netflix can suggest movies that a user is likely to enjoy. For example, the user-movie matrix could look like that:\n",
    "<style>\n",
    ".custom-table-container th {\n",
    "    writing-mode: vertical-lr;\n",
    "    vertical-align: bottom;\n",
    "    width: 20%;\n",
    "}\n",
    "</style>\n",
    "\n",
    "\n",
    "<div class=\"custom-table-container\">\n",
    "    \n",
    "| User|Star Wars | Interstellar | Blade Runner | Tron | 2001: Space O. | Mars Attacks | Dune | Matrix | Robo Cop | Aliens | Terminator | Solaris | Avatar | 12 Monkeys |\n",
    "|----|----------|--------------|--------------|------|----------------|--------------|------|--------|----------|--------|------------|---------|--------|-----------| \n",
    "| Grace | 🤩 | 🤩 || 🙈 ||| 🤩 || 🤩 | 🤩 | 🤩 || 🤩 ||\n",
    "| Carol || 🤩 | 🤩 | 🤩 |||| 🤩 |||| 🤩 || 🤩 |\n",
    "| Alice | 🤩 | 🤩 | 🤩 | 🤩 | 🤩 ||||||| 🤩 | 🙈 ||\n",
    "| Bob   | 🤩 ||||| 🤩 || 🤩 | 🤩| 🤩 | 🤩|| 🤩||\n",
    "| Eve   | 🤩 |||| 🙈 | 🤩 || 🤩 | 🤩 |||| 🤩 ||\n",
    "| Chuck | 🤩 |🤩|| 🤩| 🤩 | 🤩 | 🤩 | 🤩 || 🤩 | 🤩 || 🙈 |🤩 |\n",
    "    \n",
    "</div>"
   ]
  },
  {
   "cell_type": "markdown",
   "id": "ebfc2ab0",
   "metadata": {},
   "source": [
    "We have six users and 14 movies, that are rated either as _I like it_ (🤩) or _not for me_ (🙈). If no emoji is indicated, then the corresponding user has not seen the movie yet. This example matrix of user-movie preferences exhibits two patterns of preferences. The first pattern consists of the movies _Star Wars, Interstellar, Blade Runner, Tron, 2001: Space Odyssey, Matrix, Solaris,_ and _12 Monkeys_. This set of movies is popular in the user group of Carol, Alice and Chuck: every movie of the set is liked at least by two of the three users. Hence, we might consider to recommend each person of that group a movie from this set that the person has not watched yet. For example, we could recommend to Carol to watch _2001: Space Odyssey_.\n",
    "Likewise, we identify a second pattern of movies that is popular among the group of Grace, Bob, Eve and Chuck. This pattern encompasses the movies _Star Wars, Mars Attacks, Matrix, Robo Cop, Aliens, Terminator_, and _Avatar_.       \n",
    "\n",
    "Let's visualize the model that we are looking for as a matrix. Below you see the abstract representation of the groups of users and movies as a matrix. The first group of users (Carol, Alice and Chuck) and their corresponding set of (largely) liked movies is visualized in blue, and the second set of users (Grace, Bob, Eve and Chuck) and their set of movies are visualized in red."
   ]
  },
  {
   "cell_type": "code",
   "execution_count": 1,
   "id": "077f58db",
   "metadata": {
    "tags": [
     "remove-input",
     "remove-cell"
    ]
   },
   "outputs": [],
   "source": [
    "def plot_matrix(matrix, ax, vmin=0, vmax=3,  grid=True): \n",
    "    ax.imshow(matrix,cmap=cmap, vmin=vmin, vmax=vmax)\n",
    "    # Add grid lines for x-axis\n",
    "    #plt.xticks(np.arange(-0.5, matrix.shape[1], 1), [])\n",
    "    ax.set_xticks(np.arange(-0.5, matrix.shape[1], 1), [])\n",
    "    ax.set_yticks(np.arange(-0.5, matrix.shape[0], 1), [])\n",
    "    if grid:\n",
    "        ax.grid(axis='x', color='lightgray', linewidth=3)\n",
    "\n",
    "        # Add grid lines for y-axis\n",
    "        #plt.yticks(np.arange(-0.5, matrix.shape[0], 1), [])\n",
    "        ax.grid(axis='y', color='lightgray', linewidth=3)\n",
    "    # Remove frame axis lines\n",
    "    #ax = plt.gca()\n",
    "    ax.tick_params(bottom=False, top=False, left=False, right=False)\n",
    "    # Remove frame axis lines\n",
    "    ax.spines['left'].set_visible(False)\n",
    "    ax.spines['right'].set_visible(False)\n",
    "    ax.spines['top'].set_visible(False)\n",
    "    ax.spines['bottom'].set_visible(False)"
   ]
  },
  {
   "cell_type": "markdown",
   "id": "dcee3fc5",
   "metadata": {},
   "source": [
    "::::{grid}\n",
    ":gutter: 1\n",
    ":class-container: sd-d-flex-row, sd-align-major-center\n",
    "\n",
    ":::{grid-item}\n",
    ":child-align: center\n",
    ":columns: auto\n",
    "```{tikz}\n",
    "\\begin{tikzpicture}[baseline=-0.5ex,\n",
    "    style1/.style 2 args={\n",
    "  matrix of math nodes,\n",
    "  every node/.append style={minimum width=#2,minimum height=#1,inner sep=0,align=center},\n",
    "  nodes in empty cells,\n",
    "  left delimiter=(,\n",
    "  right delimiter=),ampersand replacement=\\&}\n",
    "  ]\n",
    "   \\matrix [style1={5mm}{5mm}] (D) {\n",
    "   |[fill=magenta, opacity=0.5]|\\&|[fill=orange, opacity=0.05]|\\&|[fill=orange, opacity=0.05]|\\&|[fill=orange, opacity=0.05]|\\&|[fill=orange, opacity=0.05]|\\& |[fill=magenta, opacity=0.5]| \\&|[fill=orange, opacity=0.05]|\\& |[fill=magenta, opacity=0.5]|\\& |[fill=magenta, opacity=0.5]|\\& |[fill=magenta, opacity=0.5]|\\& |[fill=magenta, opacity=0.5]|\\& |[fill=orange, opacity=0.05]|\\&|[fill=magenta, opacity=0.5]| \\&|[fill=orange, opacity=0.05]|\\\\\n",
    " |[fill=blue, opacity=0.5]|\\& |[fill=blue, opacity=0.5]| \\& |[fill=blue, opacity=0.5]| \\& |[fill=blue, opacity=0.5]| \\& |[fill=blue, opacity=0.5]| \\& |[fill=orange, opacity=0.05]|\\& |[fill=orange, opacity=0.05]|\\& |[fill=blue, opacity=0.5]| \\& |[fill=orange, opacity=0.05]|\\&|[fill=orange, opacity=0.05]|\\&|[fill=orange, opacity=0.05]|\\&|[fill=blue, opacity=0.5]|\\&|[fill=orange, opacity=0.05]|\\&|[fill=blue, opacity=0.5]|\\\\\n",
    " |[fill=blue, opacity=0.5]|\\& |[fill=blue, opacity=0.5]| \\& |[fill=blue, opacity=0.5]| \\& |[fill=blue, opacity=0.5]| \\& |[fill=blue, opacity=0.5]| \\& |[fill=orange, opacity=0.05]|\\& |[fill=orange, opacity=0.05]|\\& |[fill=blue, opacity=0.5]| \\&|[fill=orange, opacity=0.05]|\\&|[fill=orange, opacity=0.05]|\\&|[fill=orange, opacity=0.05]|\\&|[fill=blue, opacity=0.5]|\\&|[fill=orange, opacity=0.05]|\\&|[fill=blue, opacity=0.5]|\\\\\n",
    " |[fill=magenta, opacity=0.5]|\\&|[fill=orange, opacity=0.05]|\\&|[fill=orange, opacity=0.05]|\\&|[fill=orange, opacity=0.05]|\\&|[fill=orange, opacity=0.05]|\\& |[fill=magenta, opacity=0.5]| \\&|[fill=orange, opacity=0.05]|\\& |[fill=magenta, opacity=0.5]|\\& |[fill=magenta, opacity=0.5]|\\& |[fill=magenta, opacity=0.5]|\\& |[fill=magenta, opacity=0.5]|\\& |[fill=orange, opacity=0.05]|\\&|[fill=magenta, opacity=0.5]| \\&|[fill=orange, opacity=0.05]|\\\\\n",
    " |[fill=magenta, opacity=0.5]|\\&|[fill=orange, opacity=0.05]|\\&|[fill=orange, opacity=0.05]|\\&|[fill=orange, opacity=0.05]|\\&|[fill=orange, opacity=0.05]|\\& |[fill=magenta, opacity=0.5]| \\&|[fill=orange, opacity=0.05]|\\& |[fill=magenta, opacity=0.5]|\\& |[fill=magenta, opacity=0.5]|\\& |[fill=magenta, opacity=0.5]|\\& |[fill=magenta, opacity=0.5]|\\& |[fill=orange, opacity=0.05]|\\&|[fill=magenta, opacity=0.5]| \\&|[fill=orange, opacity=0.05]|\\\\\n",
    " |[fill=magenta, opacity=0.5]|\\&|[fill=blue, opacity=0.5]|\\&|[fill=blue, opacity=0.5]|\\&|[fill=blue, opacity=0.5]|\\&|[fill=blue, opacity=0.5]|\\& |[fill=magenta, opacity=0.5]| \\&|[fill=orange, opacity=0.05]|\\& |[fill=magenta, opacity=0.5]|\\& |[fill=magenta, opacity=0.5]|\\& |[fill=magenta, opacity=0.5]|\\& |[fill=magenta, opacity=0.5]|\\& |[fill=blue, opacity=0.5]|\\&|[fill=magenta, opacity=0.5]| \\&|[fill=blue, opacity=0.5]|\\\\\n",
    "};\n",
    "\n",
    "\\node[fit=(D-6-1),inner sep=0pt, fill=blue, opacity=0.5] {};\n",
    "\\node[fit=(D-6-8),inner sep=0pt, fill=blue, opacity=0.5] {};\n",
    "\\end{tikzpicture}\n",
    "```\n",
    ":::\n",
    "\n",
    "\n",
    "::::\n"
   ]
  },
  {
   "cell_type": "markdown",
   "id": "31937e62",
   "metadata": {},
   "source": [
    "The matrix above reflects the positive movie indications (🤩) by the nonzero cells, that are the ones that are colored. The last row reflects Chuck, who adheres to both movie patterns, that overlap in the movies _Star Wars_ and _Matrix_. Hence, we see two cells in the last row with overlapping colors. The user-movie matrix can be decomposed into the sum of two matrices, where each matrix reflects one user-movie group."
   ]
  },
  {
   "cell_type": "markdown",
   "id": "b0d7eb5a",
   "metadata": {},
   "source": [
    "::::{grid}\n",
    ":gutter: 0\n",
    ":class-container: sd-d-flex-row, sd-align-major-center\n",
    "\n",
    ":::{grid-item}\n",
    ":child-align: center\n",
    ":columns: auto\n",
    "```{tikz}\n",
    "\\begin{tikzpicture}[baseline=-0.5ex,\n",
    "    style1/.style 2 args={\n",
    "  matrix of math nodes,\n",
    "  every node/.append style={minimum width=#2,minimum height=#1,inner sep=0,align=center},\n",
    "  nodes in empty cells,\n",
    "  left delimiter=(,\n",
    "  right delimiter=),ampersand replacement=\\&}\n",
    "  ]\n",
    "   \\matrix [style1={5mm}{5mm}] (D) {\n",
    "   |[fill=orange, opacity=0.05]|\\&|[fill=orange, opacity=0.05]|\\&|[fill=orange, opacity=0.05]|\\&|[fill=orange, opacity=0.05]|\\&|[fill=orange, opacity=0.05]|\\& |[fill=orange, opacity=0.05]| \\&|[fill=orange, opacity=0.05]|\\& |[fill=orange, opacity=0.05]|\\& |[fill=orange, opacity=0.05]|\\& |[fill=orange, opacity=0.05]|\\& |[fill=orange, opacity=0.05]|\\& |[fill=orange, opacity=0.05]|\\&|[fill=orange, opacity=0.05]| \\&|[fill=orange, opacity=0.05]|\\\\\n",
    " |[fill=blue, opacity=0.5]|\\& |[fill=blue, opacity=0.5]| \\& |[fill=blue, opacity=0.5]| \\& |[fill=blue, opacity=0.5]| \\& |[fill=blue, opacity=0.5]| \\& |[fill=orange, opacity=0.05]|\\& |[fill=orange, opacity=0.05]|\\& |[fill=blue, opacity=0.5]| \\& |[fill=orange, opacity=0.05]|\\&|[fill=orange, opacity=0.05]|\\&|[fill=orange, opacity=0.05]|\\&|[fill=blue, opacity=0.5]|\\&|[fill=orange, opacity=0.05]|\\&|[fill=blue, opacity=0.5]|\\\\\n",
    " |[fill=blue, opacity=0.5]|\\& |[fill=blue, opacity=0.5]| \\& |[fill=blue, opacity=0.5]| \\& |[fill=blue, opacity=0.5]| \\& |[fill=blue, opacity=0.5]| \\& |[fill=orange, opacity=0.05]|\\& |[fill=orange, opacity=0.05]|\\& |[fill=blue, opacity=0.5]| \\&|[fill=orange, opacity=0.05]|\\&|[fill=orange, opacity=0.05]|\\&|[fill=orange, opacity=0.05]|\\&|[fill=blue, opacity=0.5]|\\&|[fill=orange, opacity=0.05]|\\&|[fill=blue, opacity=0.5]|\\\\\n",
    " |[fill=orange, opacity=0.05]|\\&|[fill=orange, opacity=0.05]|\\&|[fill=orange, opacity=0.05]|\\&|[fill=orange, opacity=0.05]|\\&|[fill=orange, opacity=0.05]|\\& |[fill=orange, opacity=0.05]| \\&|[fill=orange, opacity=0.05]|\\& |[fill=orange, opacity=0.05]|\\& |[fill=orange, opacity=0.05]|\\& |[fill=orange, opacity=0.05]|\\& |[fill=orange, opacity=0.05]|\\& |[fill=orange, opacity=0.05]|\\&|[fill=orange, opacity=0.05]| \\&|[fill=orange, opacity=0.05]|\\\\\n",
    " |[fill=orange, opacity=0.05]|\\&|[fill=orange, opacity=0.05]|\\&|[fill=orange, opacity=0.05]|\\&|[fill=orange, opacity=0.05]|\\&|[fill=orange, opacity=0.05]|\\& |[fill=orange, opacity=0.05]| \\&|[fill=orange, opacity=0.05]|\\& |[fill=orange, opacity=0.05]|\\& |[fill=orange, opacity=0.05]|\\& |[fill=orange, opacity=0.05]|\\& |[fill=orange, opacity=0.05]|\\& |[fill=orange, opacity=0.05]|\\&|[fill=orange, opacity=0.05]| \\&|[fill=orange, opacity=0.05]|\\\\\n",
    " |[fill=blue, opacity=0.5]|\\&|[fill=blue, opacity=0.5]|\\&|[fill=blue, opacity=0.5]|\\&|[fill=blue, opacity=0.5]|\\&|[fill=blue, opacity=0.5]|\\& |[fill=orange, opacity=0.05]| \\&|[fill=orange, opacity=0.05]|\\& |[fill=blue, opacity=0.5]|\\& |[fill=orange, opacity=0.05]|\\& |[fill=orange, opacity=0.05]|\\& |[fill=orange, opacity=0.05]|\\& |[fill=blue, opacity=0.5]|\\&|[fill=orange, opacity=0.05]| \\&|[fill=blue, opacity=0.5]|\\\\\n",
    "};\n",
    "\\end{tikzpicture}\n",
    "```\n",
    ":::\n",
    "\n",
    ":::{grid-item}\n",
    ":child-align: center\n",
    ":columns: auto\n",
    "$+$\n",
    ":::\n",
    "\n",
    ":::{grid-item}\n",
    ":child-align: center\n",
    ":columns: auto\n",
    "```{tikz}\n",
    "\\begin{tikzpicture}[baseline=-0.5ex,\n",
    "    style1/.style 2 args={\n",
    "  matrix of math nodes,\n",
    "  every node/.append style={minimum width=#2,minimum height=#1,inner sep=0,align=center},\n",
    "  nodes in empty cells,\n",
    "  left delimiter=(,\n",
    "  right delimiter=),ampersand replacement=\\&}\n",
    "  ]\n",
    "   \\matrix [style1={5mm}{5mm}] (D) {\n",
    "   |[fill=magenta, opacity=0.5]|\\&|[fill=orange, opacity=0.05]|\\&|[fill=orange, opacity=0.05]|\\&|[fill=orange, opacity=0.05]|\\&|[fill=orange, opacity=0.05]|\\& |[fill=magenta, opacity=0.5]| \\&|[fill=orange, opacity=0.05]|\\& |[fill=magenta, opacity=0.5]|\\& |[fill=magenta, opacity=0.5]|\\& |[fill=magenta, opacity=0.5]|\\& |[fill=magenta, opacity=0.5]|\\& |[fill=orange, opacity=0.05]|\\&|[fill=magenta, opacity=0.5]| \\&|[fill=orange, opacity=0.05]|\\\\\n",
    " |[fill=orange, opacity=0.05]|\\& |[fill=orange, opacity=0.05]| \\& |[fill=orange, opacity=0.05]| \\& |[fill=orange, opacity=0.05]| \\& |[fill=orange, opacity=0.05]| \\& |[fill=orange, opacity=0.05]|\\& |[fill=orange, opacity=0.05]|\\& |[fill=orange, opacity=0.05]| \\& |[fill=orange, opacity=0.05]|\\&|[fill=orange, opacity=0.05]|\\&|[fill=orange, opacity=0.05]|\\&|[fill=orange, opacity=0.05]|\\&|[fill=orange, opacity=0.05]|\\&|[fill=orange, opacity=0.05]|\\\\\n",
    " |[fill=orange, opacity=0.05]|\\& |[fill=orange, opacity=0.05]| \\& |[fill=orange, opacity=0.05]| \\& |[fill=orange, opacity=0.05]| \\& |[fill=orange, opacity=0.05]| \\& |[fill=orange, opacity=0.05]|\\& |[fill=orange, opacity=0.05]|\\& |[fill=orange, opacity=0.05]| \\&|[fill=orange, opacity=0.05]|\\&|[fill=orange, opacity=0.05]|\\&|[fill=orange, opacity=0.05]|\\&|[fill=orange, opacity=0.05]|\\&|[fill=orange, opacity=0.05]|\\&|[fill=orange, opacity=0.05]|\\\\\n",
    " |[fill=magenta, opacity=0.5]|\\&|[fill=orange, opacity=0.05]|\\&|[fill=orange, opacity=0.05]|\\&|[fill=orange, opacity=0.05]|\\&|[fill=orange, opacity=0.05]|\\& |[fill=magenta, opacity=0.5]| \\&|[fill=orange, opacity=0.05]|\\& |[fill=magenta, opacity=0.5]|\\& |[fill=magenta, opacity=0.5]|\\& |[fill=magenta, opacity=0.5]|\\& |[fill=magenta, opacity=0.5]|\\& |[fill=orange, opacity=0.05]|\\&|[fill=magenta, opacity=0.5]| \\&|[fill=orange, opacity=0.05]|\\\\\n",
    " |[fill=magenta, opacity=0.5]|\\&|[fill=orange, opacity=0.05]|\\&|[fill=orange, opacity=0.05]|\\&|[fill=orange, opacity=0.05]|\\&|[fill=orange, opacity=0.05]|\\& |[fill=magenta, opacity=0.5]| \\&|[fill=orange, opacity=0.05]|\\& |[fill=magenta, opacity=0.5]|\\& |[fill=magenta, opacity=0.5]|\\& |[fill=magenta, opacity=0.5]|\\& |[fill=magenta, opacity=0.5]|\\& |[fill=orange, opacity=0.05]|\\&|[fill=magenta, opacity=0.5]| \\&|[fill=orange, opacity=0.05]|\\\\\n",
    " |[fill=magenta, opacity=0.5]|\\&|[fill=orange, opacity=0.05]|\\&|[fill=orange, opacity=0.05]|\\&|[fill=orange, opacity=0.05]|\\&|[fill=orange, opacity=0.05]|\\& |[fill=magenta, opacity=0.5]| \\&|[fill=orange, opacity=0.05]|\\& |[fill=magenta, opacity=0.5]|\\& |[fill=magenta, opacity=0.5]|\\& |[fill=magenta, opacity=0.5]|\\& |[fill=magenta, opacity=0.5]|\\& |[fill=orange, opacity=0.05]|\\&|[fill=magenta, opacity=0.5]| \\&|[fill=orange, opacity=0.05]|\\\\\n",
    "};\n",
    "\n",
    "\\end{tikzpicture}\n",
    "```\n",
    ":::\n",
    "\n",
    "::::\n"
   ]
  },
  {
   "cell_type": "markdown",
   "id": "ff4ca9ed",
   "metadata": {
    "tags": [
     "remove-cell"
    ]
   },
   "source": [
    "::::{grid}\n",
    ":gutter: 0\n",
    ":class-container: sd-d-flex-row, sd-align-major-center\n",
    "\n",
    "\n",
    ":::{grid-item}\n",
    ":child-align: center\n",
    ":columns: auto\n",
    "```{tikz}\n",
    "\\begin{tikzpicture}[baseline=-0.5ex,\n",
    "    style1/.style 2 args={\n",
    "  matrix of math nodes,\n",
    "  every node/.append style={minimum width=#2,minimum height=#1,inner sep=0,align=center},\n",
    "  nodes in empty cells,\n",
    "  left delimiter=(,\n",
    "  right delimiter=),ampersand replacement=\\&}\n",
    "  ]\n",
    "   \\matrix [style1={5mm}{5mm}] (D) {\n",
    "   |[fill=orange, opacity=0.05]|\\\\\n",
    " |[fill=blue, opacity=0.5]|\\\\\n",
    " |[fill=blue, opacity=0.5]|\\\\\n",
    " |[fill=orange, opacity=0.05]|\\\\\n",
    " |[fill=orange, opacity=0.05]|\\\\\n",
    " |[fill=blue, opacity=0.5]|\\\\\n",
    "};\n",
    "\\end{tikzpicture}\n",
    "```\n",
    ":::\n",
    ":::{grid-item}\n",
    ":child-align: center\n",
    ":columns: auto\n",
    "```{tikz}\n",
    "\\begin{tikzpicture}[baseline=-0.5ex,\n",
    "    style1/.style 2 args={\n",
    "  matrix of math nodes,\n",
    "  every node/.append style={minimum width=#2,minimum height=#1,inner sep=0,align=center},\n",
    "  nodes in empty cells,\n",
    "  left delimiter=(,\n",
    "  right delimiter=),ampersand replacement=\\&}\n",
    "  ]\n",
    "   \\matrix [style1={5mm}{5mm}] (D) {\n",
    " |[fill=blue, opacity=0.5]|\\& |[fill=blue, opacity=0.5]| \\& |[fill=blue, opacity=0.5]| \\& |[fill=blue, opacity=0.5]| \\& |[fill=blue, opacity=0.5]| \\& |[fill=orange, opacity=0.05]|\\& |[fill=orange, opacity=0.05]|\\& |[fill=blue, opacity=0.5]| \\& |[fill=orange, opacity=0.05]|\\&|[fill=orange, opacity=0.05]|\\&|[fill=orange, opacity=0.05]|\\&|[fill=blue, opacity=0.5]|\\&|[fill=orange, opacity=0.05]|\\&|[fill=blue, opacity=0.5]|\\\\\n",
    "};\n",
    "\\end{tikzpicture}\n",
    "```\n",
    ":::\n",
    "\n",
    ":::{grid-item}\n",
    ":child-align: center\n",
    ":columns: auto\n",
    "$+$\n",
    ":::\n",
    "\n",
    ":::{grid-item}\n",
    ":child-align: center\n",
    ":columns: auto\n",
    "```{tikz}\n",
    "\\begin{tikzpicture}[baseline=-0.5ex,\n",
    "    style1/.style 2 args={\n",
    "  matrix of math nodes,\n",
    "  every node/.append style={minimum width=#2,minimum height=#1,inner sep=0,align=center},\n",
    "  nodes in empty cells,\n",
    "  left delimiter=(,\n",
    "  right delimiter=),ampersand replacement=\\&}\n",
    "  ]\n",
    "   \\matrix [style1={5mm}{5mm}] (D) {\n",
    "   |[fill=magenta, opacity=0.5]|\\\\\n",
    " |[fill=orange, opacity=0.05]|\\\\\n",
    " |[fill=orange, opacity=0.05]|\\\\\n",
    " |[fill=magenta, opacity=0.5]|\\\\\n",
    " |[fill=magenta, opacity=0.5]|\\\\\n",
    " |[fill=magenta, opacity=0.5]|\\\\\n",
    "};\n",
    "\n",
    "\\end{tikzpicture}\n",
    "```\n",
    ":::\n",
    "\n",
    ":::{grid-item}\n",
    ":child-align: center\n",
    ":columns: auto\n",
    "```{tikz}\n",
    "\\begin{tikzpicture}[baseline=-0.5ex,\n",
    "    style1/.style 2 args={\n",
    "  matrix of math nodes,\n",
    "  every node/.append style={minimum width=#2,minimum height=#1,inner sep=0,align=center},\n",
    "  nodes in empty cells,\n",
    "  left delimiter=(,\n",
    "  right delimiter=),ampersand replacement=\\&}\n",
    "  ]\n",
    "   \\matrix [style1={5mm}{5mm}] (D) {\n",
    "   |[fill=magenta, opacity=0.5]|\\&|[fill=orange, opacity=0.05]|\\&|[fill=orange, opacity=0.05]|\\&|[fill=orange, opacity=0.05]|\\&|[fill=orange, opacity=0.05]|\\& |[fill=magenta, opacity=0.5]| \\&|[fill=orange, opacity=0.05]|\\& |[fill=magenta, opacity=0.5]|\\& |[fill=magenta, opacity=0.5]|\\& |[fill=magenta, opacity=0.5]|\\& |[fill=magenta, opacity=0.5]|\\& |[fill=orange, opacity=0.05]|\\&|[fill=magenta, opacity=0.5]| \\&|[fill=orange, opacity=0.05]|\\\\\n",
    "};\n",
    "\\end{tikzpicture}\n",
    "```\n",
    ":::\n",
    "\n",
    "::::\n"
   ]
  },
  {
   "cell_type": "markdown",
   "id": "2d9d4b63",
   "metadata": {},
   "source": [
    "Furthermore, each of the single user-group matrices can be represented by an outer product of a user- and a user-vector. And the sum of outer product matrices reflects a low-dimensional matrix product. In this casse, we have a product of two dimensionality two -- one for each user-movie matrix. "
   ]
  },
  {
   "cell_type": "markdown",
   "id": "ca92e214",
   "metadata": {},
   "source": [
    "::::{grid}\n",
    ":gutter: 0\n",
    ":class-container: sd-d-flex-row, sd-align-major-center\n",
    "\n",
    "\n",
    ":::{grid-item}\n",
    ":child-align: center\n",
    ":columns: auto\n",
    "```{tikz}\n",
    "\\begin{tikzpicture}[baseline=-0.5ex,\n",
    "    style1/.style 2 args={\n",
    "  matrix of math nodes,\n",
    "  every node/.append style={minimum width=#2,minimum height=#1,inner sep=0,align=center},\n",
    "  nodes in empty cells,\n",
    "  left delimiter=(,\n",
    "  right delimiter=),ampersand replacement=\\&}\n",
    "  ]\n",
    "   \\matrix [style1={5mm}{5mm}] (D) {\n",
    "   |[fill=orange, opacity=0.05]|\\& |[fill=magenta, opacity=0.5]|\\\\\n",
    " |[fill=blue, opacity=0.5]|\\& |[fill=orange, opacity=0.05]|\\\\\n",
    " |[fill=blue, opacity=0.5]|\\& |[fill=orange, opacity=0.05]|\\\\\n",
    " |[fill=orange, opacity=0.05]|\\& |[fill=magenta, opacity=0.5]|\\\\\n",
    " |[fill=orange, opacity=0.05]|\\& |[fill=magenta, opacity=0.5]|\\\\\n",
    " |[fill=blue, opacity=0.5]|\\& |[fill=magenta, opacity=0.5]|\\\\\n",
    "};\n",
    "\\end{tikzpicture}\n",
    "```\n",
    ":::\n",
    ":::{grid-item}\n",
    ":child-align: center\n",
    ":columns: auto\n",
    "```{tikz}\n",
    "\\begin{tikzpicture}[baseline=-0.5ex,\n",
    "    style1/.style 2 args={\n",
    "  matrix of math nodes,\n",
    "  every node/.append style={minimum width=#2,minimum height=#1,inner sep=0,align=center},\n",
    "  nodes in empty cells,\n",
    "  left delimiter=(,\n",
    "  right delimiter=),ampersand replacement=\\&}\n",
    "  ]\n",
    "   \\matrix [style1={5mm}{5mm}] (D) {\n",
    " |[fill=blue, opacity=0.5]|\\& |[fill=blue, opacity=0.5]| \\& |[fill=blue, opacity=0.5]| \\& |[fill=blue, opacity=0.5]| \\& |[fill=blue, opacity=0.5]| \\& |[fill=orange, opacity=0.05]|\\& |[fill=orange, opacity=0.05]|\\& |[fill=blue, opacity=0.5]| \\& |[fill=orange, opacity=0.05]|\\&|[fill=orange, opacity=0.05]|\\&|[fill=orange, opacity=0.05]|\\&|[fill=blue, opacity=0.5]|\\&|[fill=orange, opacity=0.05]|\\&|[fill=blue, opacity=0.5]|\\\\\n",
    " |[fill=magenta, opacity=0.5]|\\&|[fill=orange, opacity=0.05]|\\&|[fill=orange, opacity=0.05]|\\&|[fill=orange, opacity=0.05]|\\&|[fill=orange, opacity=0.05]|\\& |[fill=magenta, opacity=0.5]| \\&|[fill=orange, opacity=0.05]|\\& |[fill=magenta, opacity=0.5]|\\& |[fill=magenta, opacity=0.5]|\\& |[fill=magenta, opacity=0.5]|\\& |[fill=magenta, opacity=0.5]|\\& |[fill=orange, opacity=0.05]|\\&|[fill=magenta, opacity=0.5]| \\&|[fill=orange, opacity=0.05]|\\\\\n",
    "};\n",
    "\\end{tikzpicture}\n",
    "```\n",
    ":::\n",
    "\n",
    "::::\n"
   ]
  },
  {
   "cell_type": "markdown",
   "id": "caba377a",
   "metadata": {},
   "source": [
    "The low-dimensional matrix product describing our user-movie preferences is now represented by two user-vectors (the columns of the left matrix) and two movie-vectors (the rows of the right matrix). Each pair of user- and movie-vectors indicates a group, exhibiting the same movie preferences. Note, that the original $6\\times 14$ matrix is now compressed into a $6\\times 2$-matrix and a $2\\times 14$ matrix. While the original matrix contains $6\\cdot 14 = 84$ elements, the low-dimensional product needs only $2\\cdot 6 + 2\\cdot 14 = 40$ elememts to be stored. That is roughly the idea of recommender systems: using reoccurences in the behaviour or similarities among users and movies to compress the data, and to use the compressed data representation to make recommendations."
   ]
  },
  {
   "cell_type": "code",
   "execution_count": 2,
   "id": "6ca00dc5",
   "metadata": {
    "tags": [
     "remove-cell"
    ]
   },
   "outputs": [
    {
     "data": {
      "image/png": "[encoded data removed]",
      "text/plain": [
       "<Figure size 432x288 with 1 Axes>"
      ]
     },
     "metadata": {
      "needs_background": "light"
     },
     "output_type": "display_data"
    }
   ],
   "source": [
    "import matplotlib.pyplot as plt\n",
    "import numpy as np\n",
    "from matplotlib.colors import ListedColormap\n",
    "\n",
    "jupyter_blue = (0+0.2, 113/255+0.2, 188/255+0.2)\n",
    "jupyter_orange = (min(242/255+0.2,1), 115/255+0.2, 33/255+0.2)\n",
    "jupyter_magenta = (min(232/255+0.2,1), 62/255+0.2, 140/255+0.2)\n",
    "\n",
    "\n",
    "# Define the colors for the colormap\n",
    "colors = ['white', jupyter_blue, jupyter_magenta, \"violet\"]\n",
    "\n",
    "# Define the values corresponding to each color\n",
    "values = [0, 1, 2, 3]\n",
    "\n",
    "# Create the custom colormap\n",
    "cmap = ListedColormap(colors)\n",
    "P_1 = np.array([0,1,1,0,0,1])\n",
    "P1_ = np.array([1,1,1,1,1,0,0,1,0,0,0,1,0,1])\n",
    "P_2 = np.array([1,0,0,1,1,1])\n",
    "P2_ = np.array([1,0,0,0,0,1,0,1,1,1,1,0,1,0])\n",
    "P1 = np.outer(P_1,P1_)\n",
    "P2 = 2*np.outer(P_2,P2_)\n",
    "ax = plt.gca()\n",
    "plot_matrix(P1+P2,ax)\n",
    "plt.show()"
   ]
  },
  {
   "cell_type": "code",
   "execution_count": 3,
   "id": "c1c29666",
   "metadata": {
    "tags": [
     "remove-cell"
    ]
   },
   "outputs": [
    {
     "data": {
      "image/png": "[encoded data removed]",
      "text/plain": [
       "<Figure size 1224x576 with 5 Axes>"
      ]
     },
     "metadata": {
      "needs_background": "light"
     },
     "output_type": "display_data"
    }
   ],
   "source": [
    "fig,axs = plt.subplots(1,5, figsize = (17,8), gridspec_kw = {\"width_ratios\": [P1.shape[1], 1, P1.shape[1],1, P1.shape[1]]})\n",
    "plot_matrix(P1+P2, axs[0])\n",
    "# =\n",
    "plot_matrix(np.zeros((P1.shape[0],1)), axs[1], grid=False)\n",
    "axs[1].text(-0.6,3, '=', fontsize=30)\n",
    "\n",
    "plot_matrix(P1, axs[2])\n",
    "# +\n",
    "plot_matrix(np.zeros((P1.shape[0],1)), axs[3], grid=False)\n",
    "axs[3].text(-0.6,3, '+', fontsize=30)\n",
    "\n",
    "plot_matrix(P2, axs[4])"
   ]
  },
  {
   "cell_type": "code",
   "execution_count": 4,
   "id": "58d88650",
   "metadata": {
    "tags": [
     "remove-cell"
    ]
   },
   "outputs": [
    {
     "data": {
      "image/png": "[encoded data removed]",
      "text/plain": [
       "<Figure size 1224x576 with 7 Axes>"
      ]
     },
     "metadata": {
      "needs_background": "light"
     },
     "output_type": "display_data"
    }
   ],
   "source": [
    "fig,axs = plt.subplots(1,7, figsize = (17,8), gridspec_kw = {\"width_ratios\": [P1.shape[1], 1, 1, P1.shape[1],1, 1,P1.shape[1]]})\n",
    "plot_matrix(P1+P2, axs[0])\n",
    "plot_matrix(np.zeros((P1.shape[0],1)), axs[1], grid=False)\n",
    "axs[1].text(-0.6,3, '=', fontsize=30)\n",
    "\n",
    "plot_matrix(np.reshape(P_1, (P_1.shape[0], 1)), axs[2])\n",
    "plot_matrix(np.reshape(P1_, (1, P1_.shape[0])), axs[3])\n",
    "plot_matrix(np.zeros((P1.shape[0],1)), axs[4], grid=False)\n",
    "axs[4].text(-0.6,3, '+', fontsize=30)\n",
    "plot_matrix(2*np.reshape(P_2, (P_2.shape[0], 1)), axs[5])\n",
    "plot_matrix(2*np.reshape(P2_, (1, P2_.shape[0])), axs[6])"
   ]
  },
  {
   "cell_type": "markdown",
   "id": "b42753a4",
   "metadata": {},
   "source": [
    "## Formal Problem Definition\n",
    "We formalize the idea to obtain recommendations by compressing the data as the task to minimize the squared Frobenius-norm error of a low-rank matrix product and the data matrix.\n",
    "`````{admonition} Task (Rank-r Matrix Factorization)\n",
    ":class: tip\n",
    "**Given** a data matrix $D\\in\\mathbb{R}^{n\\times d}$ and a rank $r<\\min\\{n,d\\}$.        \n",
    "    \n",
    "**Find** matrices $X\\in \\mathbb{R}^{d\\times r}$ and $Y\\in\\mathbb{R}^{n\\times r}$ whose product approximates the data matrix:\n",
    "\\begin{align}\n",
    "    \\min_{X,Y}&\\lVert D- YX^\\top\\rVert^2 & \\text{s.t. } X\\in \\mathbb{R}^{d\\times r}, Y\\in\\mathbb{R}^{n\\times r}\n",
    "\\end{align}\n",
    "**Return** the low-dimensional approximation of the data $(X,Y)$.  \n",
    "`````\n",
    "Note that the Rank-r matrix factorization task is not directly suitable to return recommendations. It only describes the task to compress a given data matrix into a low-dimensional product. To provide recommendations, we need to fill in missing values. We will discuss later how we can do this with a low dimensional matrix factorization.    \n",
    "First, we analyze properties of the objective, as it turns out, the low-dimensional matrix factorization task is nonconvex. \n",
    "````{prf:theorem}\n",
    "The rank-$r$ matrix factorization problem, defined for a matrix $D\\in\\mathbb{R}^{n\\times d}\\neq\\mathbf{0}$ and a rank $1\\leq r<\\min\\{n,d\\}$ as           \n",
    "\\begin{align*}\n",
    "    \\min_{X,Y}& RSS(X,Y)=\\lVert D- YX^\\top\\rVert^2 & \\text{s.t. } X\\in \\mathbb{R}^{d\\times r}, Y\\in\\mathbb{R}^{n\\times r}\n",
    "\\end{align*}\n",
    "is a **nonconvex optimization problem**.\n",
    "````\n",
    "The proof follows from the fact that the set of global minimizers is not a convex set.\n",
    "````{toggle}\n",
    "```{prf:proof}\n",
    "We show that the $RSS(X,Y)$ is not a convex function. Therefore we assume first that the $RSS(X,Y)$ is a convex function and show then that this assumption leads to a contradiction. Assuming that the $RSS(X,Y)$ is a convex function means that the following inequality has to hold for all matrices $X_1,X_2\\in\\mathbb{R}^{d\\times r}$ and $Y_1,Y_2\\in\\mathbb{R}^{n\\times r}$ and $\\alpha\\in[0,1]$:\n",
    "\\begin{align}\n",
    "        RSS(\\alpha X_1+ (1-\\alpha)X_2,\\alpha Y_1 + (1-\\alpha)Y_2) \\leq \\alpha RSS(X_1,Y_1) + (1-\\alpha)RSS(X_2,Y_2).\n",
    "\\end{align}\n",
    "For any global minimizer $(X,Y)$ of the rank-$r$ MF problem, $(\\gamma X, \\frac{1}{\\gamma} Y)$ is also a global minimizer for $\\gamma\\neq 0$.\n",
    "However, for $\\alpha=1/2$ the convex combination attains a function value of\n",
    "\\begin{align*}\n",
    "    RSS(\\alpha X + (1-\\alpha) (\\gamma X), \\alpha Y+(1-\\alpha)(\\tfrac1\\gamma Y)) &=RSS\\left(\\tfrac12 X + \\tfrac12 (\\gamma X), \\tfrac12 Y+\\tfrac12(\\tfrac1\\gamma Y)\\right)\\\\\n",
    "    &= RSS\\left(\\tfrac12(1+\\gamma) X, \\tfrac12(1+ \\tfrac1\\gamma) Y\\right)\\\\\n",
    "    &=\\lVert D-\\tfrac14(1+\\gamma)(1+\\tfrac1\\gamma)YX^\\top\\rVert^2.\n",
    "\\end{align*}\n",
    "We observe that the approximation error in the last equation goes to infinity if $\\gamma\\rightarrow \\infty$. Hence, there exists multiple $\\gamma>0$ for which the $RSS$ of the convex combination of two global minimizers is larger than zero. This contradicts the assumption that the $RSS(X,Y)$ is convex.\n",
    "```\n",
    "````\n",
    "We observe from the proof that there are infinitely many global minimizers for the low-dimensional matrix factorization task. Let's explore this set of global minimizers by means of an example in one dimension.\n",
    "````{prf:example} One-dimensional matrix factorization   \n",
    "The most _easy_ case of a low-dimensional matrix factorization is the factorization of a single number. Let's take for example the factorization of the number one into a product of two factors $x_1$ and $x_2$, having the objective function  $f(x_1,x_2) = (1-x_1x_2)^2$. We plot the graph of the objective function together with three solutions: $(x_1,x_2)=(2,0.5)$, $(1,1)$, and $(0.5,2)$.\n",
    "```{tikz}\n",
    "\\begin{tikzpicture}\n",
    "\\begin{axis}[width=1.4\\textwidth,xlabel=$x_1$,ylabel=$x_2$,zlabel=$y$,zmin=0,axis lines = center,zmax=4.1,xmin=0,xmax=2.5,ymin=0,ymax=2.5,view={45}{45},\n",
    "x label style={at={(xticklabel* cs:1,-0.1)},anchor=north},\n",
    "y label style={at={(yticklabel* cs:1.2,0)},anchor=north},\n",
    "z label style={at={(zticklabel* cs:1.1,0.1)},anchor=north},\n",
    "yticklabels={,,},xticklabels={,,},zticklabels={,,}]\n",
    "\\addplot3[\n",
    "    mesh, samples=15, domain=0:2.5,\n",
    "]\n",
    "{(1-x*y)^2};\n",
    "\\node[label={45:{$(1,1)$}},circle,fill,inner sep=2pt] at (axis cs:1,1) {};\n",
    "\\node[label={45:{$(0.5,2)$}},circle,fill,inner sep=2pt] at (axis cs:0.5,2) {};\n",
    "\\node[label={45:{$(2,0.5)$}},circle,fill,inner sep=2pt] at (axis cs:2,0.5) {};\n",
    "\\end{axis}\n",
    "\\end{tikzpicture}\n",
    "```\n",
    "We can observe the nonconvexity of this function by connecting the solution of $(0.5,2)$ with $(2,0.5)$ with a straight line. If the function would be convex, then the graph ofthe function would be under or on the line. Under the line is not possible in this case, since the solution points we picked are global minimizers. Hence, the graph should be flat ($y$-value equal to zero) on the line between the two solutions, but we see that the loss increases to the right. However, we also see that the loss function doesn't look as if there is a multitude of valleys, that are local minima. That gives us hope, that the low-rank matrix factorization task is not that difficult to solve.   \n",
    "````\n",
    "## Optimization\n",
    "\n",
    "In most cases, nonconvexity of an objective implies that we probably have to live with the fact that we can not determine the global minimum, and that we can only hope to get good local minima by numerical optimization methods such as gradient descent. The rank-$r$ matrix factorization problem is here an exemption to the rule, since we can derive one global minimum by SVD. \n",
    "\n",
    "````{prf:theorem} Truncated SVD\n",
    "Let $D=U\\Sigma V^\\top\\in\\mathbb{R}^{n\\times d}$ be the singular decomposition of $D$. Then the global minimizers $X$ and $Y$  of the rank-$r$ MF problem \n",
    "\\begin{align}\n",
    "\\min_{X,Y}\\lVert D-YX^\\top\\rVert^2 \\text{s.t. } X\\in \\mathbb{R}^{d\\times r}, Y\\in\\mathbb{R}^{n\\times r}.\n",
    "\\end{align}\n",
    "satisfy \n",
    "\\begin{align} \n",
    "YX^\\top = U_{\\cdot \\mathcal{R}}\\Sigma_{\\mathcal{R}\\mathcal{R}}V_{\\cdot \\mathcal{R}}^\\top, \\text{ where }\\mathcal{R}=\\{1,\\ldots, r\\}.\n",
    "\\end{align}\n",
    "````\n",
    "````{prf:proof}\n",
    "The proof follows from\n",
    "the orthogonal invariance of the Frobenius norm, yielding:\n",
    "\\begin{align*}\n",
    "    \\min_{X,Y}&\\lVert D-YX^\\top\\rVert^2 = \\lVert \\Sigma - U^\\top YX^\\top V\\rVert^2 \n",
    "\\end{align*}\n",
    "````\n"
   ]
  },
  {
   "cell_type": "markdown",
   "id": "c2bbb082",
   "metadata": {},
   "source": [
    "## A Simple Matrix Completion Recommender System\n",
    "We can use truncated SVD to compute a low-rank approximation of the data.\n",
    "How can we use this to provide recommendations? After all, we need a complete matrix in order to compute the SVD. For now, we consider a quick hack: we fill the missing values with the mean (neutral rating) and compute the truncated SVD with the hope that the SVD reconstructs mainly the given ratings that are often not equal to the mean rating, such that the imputed values get a more accurate prediction of a rating with the SVD.      \n",
    "\n",
    "Let's go through an example. The table below shows a movie-ratings database that is filled by some ratings, but not all movies have been seen by all costumers and we want to fill in the missing values with the approximate rating that would be given by the user if the had seen the movie.\n",
    "\n",
    "| Id| $A$ | $B$ | $C$ | $D$|\n",
    "|---|-----|-----|-----|----|\n",
    "| 1 | ★★★★★ | ? | ★★☆☆☆ | ★☆☆☆☆ |\n",
    "| 2 | ? | ★☆☆☆☆ | ★★★★★ | ? |\n",
    "| 3 | ★★★★★ | ★☆☆☆☆ | ★★★★★ | ★★☆☆☆|\n",
    "| 4 | ★★★★★ | ? | ★★★★★ | ★★★☆☆|\n",
    "| 5 | ★★★★★ | ★★★★★ | ? | ? |\n",
    "| 6 | ? | ★★★★☆| ★★★★★ | ★★★☆☆ |\n",
    "\n",
    "We apply our quick hack and replace the unobserved entries with the mean rating $\\mu=\\frac{1+2+3+4+5}{5}=3$. This gives us the following data matrix:"
   ]
  },
  {
   "cell_type": "code",
   "execution_count": 5,
   "id": "1477a29c",
   "metadata": {},
   "outputs": [
    {
     "data": {
      "text/plain": [
       "array([[5, 3, 1, 1],\n",
       "       [3, 1, 5, 3],\n",
       "       [2, 1, 5, 3],\n",
       "       [4, 3, 4, 2],\n",
       "       [5, 5, 3, 1],\n",
       "       [3, 1, 5, 3]])"
      ]
     },
     "execution_count": 5,
     "metadata": {},
     "output_type": "execute_result"
    }
   ],
   "source": [
    "D = np.array([[5,3,1,1],[3,1,5,3],[2,1,5,3],[4,3,4,2],[5,5,3,1],[3,1,5,3]])\n",
    "D"
   ]
  },
  {
   "cell_type": "markdown",
   "id": "8209a68e",
   "metadata": {},
   "source": [
    "We visualize the rating matrix with the image below. A white pixel indicates a low rating and a blue pixel indicates a higher rating. "
   ]
  },
  {
   "cell_type": "code",
   "execution_count": 15,
   "id": "144da1b8",
   "metadata": {
    "tags": [
     "remove-input"
    ]
   },
   "outputs": [
    {
     "data": {
      "image/png": "[encoded data removed]",
      "text/plain": [
       "<Figure size 432x288 with 1 Axes>"
      ]
     },
     "metadata": {
      "needs_background": "light"
     },
     "output_type": "display_data"
    }
   ],
   "source": [
    "from matplotlib.colors import ListedColormap, LinearSegmentedColormap\n",
    "cm_0 = LinearSegmentedColormap.from_list(\"mycmap0\", [\"#ffffff\",\"#a0c3ff\"])\n",
    "cm_1 = LinearSegmentedColormap.from_list(\"mycmap1\", [\"#ffffff\", \"#ffa1cf\"])\n",
    "cm_2 = LinearSegmentedColormap.from_list(\"mycmap2\", [\"#ffffff\", \"#f37726\"])\n",
    "\n",
    "plt.imshow(D,vmin = 0, vmax = 5, cmap=cm_0)\n",
    "plt.title(\"D\")\n",
    "plt.axis('off')\n",
    "plt.show()"
   ]
  },
  {
   "cell_type": "markdown",
   "id": "10e09490",
   "metadata": {},
   "source": [
    "We compute the SVD of the matrix $D$:"
   ]
  },
  {
   "cell_type": "code",
   "execution_count": 7,
   "id": "4fada26b",
   "metadata": {},
   "outputs": [],
   "source": [
    "U, s, Vᵀ = np.linalg.svd(D,full_matrices=True)"
   ]
  },
  {
   "cell_type": "markdown",
   "id": "7456c6ca",
   "metadata": {},
   "source": [
    "We get a rank-2 approximation of $D$ by truncating the SVD to two singular values and vectors: \n",
    "$$D\\approx U_{\\cdot \\{1,2\\}}\\Sigma_{\\{1,2\\}\\{1,2\\}}V_{\\cdot \\{1,2\\}}^\\top.$$ \n",
    "The tri-factorization of SVD can be expressed as a factorization into two matrices by making an arbitrary split into the product of two matrices. For example, we could set $Y=U_{\\cdot \\{1,2\\}}\\Sigma_{\\{1,2\\}\\{1,2\\}}^{1/2}$ and $X=V_{\\cdot \\{1,2\\}}\\Sigma_{\\{1,2\\}\\{1,2\\}}^{1/2}$. This way, we can expect that $Y$ and $X$ are similarly scaled, since they both are matrices with unitary vectors that are scaled by the square roots of the singular values. However, in principle, any split of the SVD product into two matrices will do. \n",
    "```{note}\n",
    "The matrix $A^{1/2}$ is defined as the matrix that satisfies the equation $A^{1/2}A^{1/2}=A$. Not for all matrices $A$ exists such a matrix $A^{1/2}$. However, for nonnegative, diagonal matrices $\\Sigma$, the matrix $\\Sigma^{1/2}=\\diag(\\sqrt{\\sigma_1},\\ldots, \\sqrt{\\sigma_r})$ exists.\n",
    "```"
   ]
  },
  {
   "cell_type": "code",
   "execution_count": 16,
   "id": "783ad14d",
   "metadata": {},
   "outputs": [
    {
     "data": {
      "text/plain": [
       "(array([[-1.3 ,  1.26],\n",
       "        [-1.61, -0.85],\n",
       "        [-1.46, -1.04],\n",
       "        [-1.71,  0.21],\n",
       "        [-1.81,  1.27],\n",
       "        [-1.61, -0.85]]),\n",
       " array([[-2.3 ,  1.08],\n",
       "        [-1.49,  1.38],\n",
       "        [-2.43, -1.36],\n",
       "        [-1.35, -0.92]]))"
      ]
     },
     "execution_count": 16,
     "metadata": {},
     "output_type": "execute_result"
    }
   ],
   "source": [
    "np.set_printoptions(precision=2,suppress=True)\n",
    "Y = U[:,0:2]*np.sqrt(s[0:2])\n",
    "X = Vᵀ.T[:,0:2]*np.sqrt(s[0:2])\n",
    "Y,X"
   ]
  },
  {
   "cell_type": "markdown",
   "id": "845509e5",
   "metadata": {},
   "source": [
    "The low rank approximation can be used to give recommendations."
   ]
  },
  {
   "cell_type": "code",
   "execution_count": 10,
   "id": "43600707",
   "metadata": {},
   "outputs": [
    {
     "data": {
      "text/plain": [
       "array([[4.34, 3.68, 1.43, 0.59],\n",
       "       [2.78, 1.23, 5.08, 2.97],\n",
       "       [2.23, 0.75, 4.97, 2.93],\n",
       "       [4.16, 2.84, 3.88, 2.13],\n",
       "       [5.53, 4.46, 2.68, 1.28],\n",
       "       [2.78, 1.23, 5.08, 2.97]])"
      ]
     },
     "execution_count": 10,
     "metadata": {},
     "output_type": "execute_result"
    }
   ],
   "source": [
    "Y@X.T"
   ]
  },
  {
   "cell_type": "markdown",
   "id": "f82288a4",
   "metadata": {},
   "source": [
    "If we compare the matrix above with the matrix having missing values, then we see that the low rank approximation gives some tendencies for recommendations, but often no very clear recommendation indications. This is not very surprising, since we had just a small dataset and comparatively many missing values. The rank-2 approximation is already a bit too well adapting to the missing values neutral rating."
   ]
  },
  {
   "cell_type": "markdown",
   "id": "35f29aa7",
   "metadata": {},
   "source": [
    "\\begin{align}\n",
    "  \\begin{pmatrix}\n",
    "    5 & \\mu & 1 & 1 \\\\\n",
    "    \\mu & 1 & 5 & \\mu  \\\\\\\n",
    "    2 & 1 & 5 & 3 \\\\\n",
    "    4 & \\mu & 4 & 2\\\\\n",
    "    5 & 5 & \\mu & 1 \\\\\n",
    "    \\mu & 1 & 5 & 3 \\\\\n",
    "  \\end{pmatrix}\n",
    "  &\\approx\n",
    "  \\begin{pmatrix}\n",
    "    4.3 & 3.7 & 1.4 & 0.6\\\\\n",
    "    2.8 & 1.2 & 5.1 & 3.0\\\\\n",
    "    2.2 & 0.7 & 5.0 & 2.9\\\\\n",
    "    4.2 & 2.8 & 3.9 & 2.1\\\\\n",
    "    5.5 & 4.5 & 2.7 & 1.3\\\\\n",
    "    2.8 & 1.2 & 5.1 & 3.0\n",
    "  \\end{pmatrix}\n",
    "\\end{align}"
   ]
  },
  {
   "cell_type": "markdown",
   "id": "aca14d89",
   "metadata": {},
   "source": [
    "If we plot the original data and the approximation next to another, then we also see that there are no big differences. "
   ]
  },
  {
   "cell_type": "code",
   "execution_count": 19,
   "id": "c02dca57",
   "metadata": {
    "tags": [
     "remove-input"
    ]
   },
   "outputs": [
    {
     "data": {
      "image/png": "[encoded data removed]",
      "text/plain": [
       "<Figure size 720x360 with 2 Axes>"
      ]
     },
     "metadata": {
      "needs_background": "light"
     },
     "output_type": "display_data"
    }
   ],
   "source": [
    "from matplotlib.colors import ListedColormap, LinearSegmentedColormap\n",
    "cm_0 = LinearSegmentedColormap.from_list(\"mycmap0\", [\"#ffffff\",\"#a0c3ff\"])\n",
    "cm_1 = LinearSegmentedColormap.from_list(\"mycmap1\", [\"#ffffff\", \"#ffa1cf\"])\n",
    "cm_2 = LinearSegmentedColormap.from_list(\"mycmap2\", [\"#ffffff\", \"#f37726\"])\n",
    "\n",
    "# Create subplots\n",
    "fig, axes = plt.subplots(1, 2, figsize=(10, 5))\n",
    "\n",
    "# Plot first matrix\n",
    "axes[0].imshow(Y@X.T, vmin=0, vmax=5, cmap=cm_0)\n",
    "axes[0].set_title(\"Y X.T\")\n",
    "axes[0].axis('off')\n",
    "\n",
    "# Plot second matrix\n",
    "axes[1].imshow(D, vmin=0, vmax=5, cmap=cm_0)\n",
    "axes[1].set_title(\"D\")\n",
    "axes[1].axis('off')\n",
    "\n",
    "plt.tight_layout()\n",
    "plt.show()"
   ]
  },
  {
   "cell_type": "markdown",
   "id": "1e2b57b0",
   "metadata": {},
   "source": [
    "### Interpretation of the Factorization\n",
    "The rank-two matrix product is composed by the sum of two outer products. Every outer product indicates the interaction of a user-pattern with a movie pattern. Hence, looking at the outer-product decomposition is useful for interpretation purposes. The equation below shows again the rank-two approximation. "
   ]
  },
  {
   "cell_type": "markdown",
   "id": "02f7a3d6",
   "metadata": {
    "tags": [
     "remove-input"
    ]
   },
   "source": [
    "\\begin{align*}\n",
    "  \\begin{pmatrix}\n",
    "    5 & \\mu & 1 & 1 \\\\\n",
    "    \\mu & 1 & 5 & \\mu  \\\\\\\n",
    "    2 & 1 & 5 & 3 \\\\\n",
    "    4 & \\mu & 4 & 2\\\\\n",
    "    5 & 5 & \\mu & 1 \\\\\n",
    "    \\mu & 1 & 5 & 3 \\\\\n",
    "  \\end{pmatrix}\n",
    "  &\\approx\n",
    "  \\begin{pmatrix}\n",
    "    -0.3 & 0.5\\\\\n",
    "    -0.4 & -0.4\\\\\n",
    "    -0.4 & -0.4\\\\\n",
    "    -0.4 & 0.1\\\\\n",
    "    -0.5 & 0.5\\\\\n",
    "    -0.4 & -0.4\\\\\n",
    "  \\end{pmatrix}\n",
    "  \\begin{pmatrix}\n",
    "    -9.0 & -5.8 & -9.5 & -5.3\\\\\n",
    "    2.6 & 3.3 & -3.3 & -2.2\\\\\n",
    "  \\end{pmatrix}\n",
    "\\end{align*}\n",
    "Every user's preferences are approximated by a linear combination of the rows in the second matrix. The rows in the second matrix have an interpretation as movie patterns. For example, the first user adheres to the first movie pattern with a factor of $-0.3$ and to the second movie pattern with a factor of $0.5$.\n",
    "\\begin{align*}\n",
    "    \\begin{pmatrix}\n",
    "        5 & \\mu & 1 & 1 \n",
    "    \\end{pmatrix}\n",
    "    \\approx&\n",
    "    -0.3\\cdot \n",
    "    \\begin{pmatrix}\n",
    "        -9.0 & -5.8 & -9.5 & -5.3\n",
    "    \\end{pmatrix}\n",
    "    +0.5\\cdot\n",
    "    \\begin{pmatrix}\n",
    "        2.6 & 3.3 & -3.3 & -2.2\n",
    "    \\end{pmatrix}    \n",
    "\\end{align*}\n",
    "We visualize the sum of the two outer products with colored matrices. The more saturated the color, the  higher is the absolute value of the corresponding element in the matrix. Positive values are blue and negative values are pink.  \n",
    "The visualization makes the grid structure apparent which is induced by the outer product. The first movie pattern is $\\begin{pmatrix}-9.0 & -5.8 & -9.5 & -5.3\\end{pmatrix}$, but because all values in the first user pattern are also negative, it would be more intuitive to consider the first movie pattern as $\\begin{pmatrix}9 & 5.8 & 9.5 & 5.3\\end{pmatrix}$. We see this pattern in the first outer product $Y_{\\cdot 1}X_{\\cdot 1}^\\top$: the first and third column have a higher intensity than the other columns, corresponding to the high values in the pattern matrix $9$ and $9.5$. We can roughly say that the first outer product indicates how much the user likes movie 1 and movie 3 but not so much the other movies.      \n",
    "However, we cannot make general statements from the first outer product (e.g., user 2 likes movie 1 and movie 3 because their (sign-corrected) coefficient for the first movie pattern is 0.4, which is comparatively high). That is because the second outer product may correct what the first outer product indicates by subtracting and adding values. For evample, user 2 doesn't particularly like movie 1 (in fact, it's a missing value) and although the first outer product indicates a score of $0.4\\cdot 9=3.6$. The second outer product corrects this by subtracting $-0.4\\cdot2.6=-1.04$.     \n",
    "\n",
    "Hence, we can't make general statements based on one outer product alone. However, the significance of the outer products in the sense of how they influence the approximation, drops with the index of the outer product. That is because the singular values are decreasing in magnitude with the index. Visually, we can observe this with the fading colors making up the second outer product.  "
   ]
  },
  {
   "cell_type": "code",
   "execution_count": 38,
   "id": "b8159971",
   "metadata": {
    "tags": [
     "remove-input"
    ]
   },
   "outputs": [
    {
     "data": {
      "image/png": "[encoded data removed]",
      "text/plain": [
       "<Figure size 1296x360 with 3 Axes>"
      ]
     },
     "metadata": {
      "needs_background": "light"
     },
     "output_type": "display_data"
    }
   ],
   "source": [
    "plt.figure(2, figsize=(18, 5))\n",
    "cm_bm = LinearSegmentedColormap.from_list(\"mycmapbm\", [\"#ffa1cf\",\"#ffffff\",\"#a0c3ff\"])\n",
    "#--------------\n",
    "plt.subplot(1,3,1)\n",
    "plt.imshow(Y@X.T,vmin = -5, vmax = 5,cmap=cm_bm)\n",
    "plt.title(\"$YX^T$\")\n",
    "plt.axis('equal')\n",
    "plt.axis('off')\n",
    "plt.text(5,3, '=')\n",
    "\n",
    "plt.subplot(1,3,2)\n",
    "plt.imshow(np.outer(Y[:,0],X[:,0]),vmin = -5, vmax = 5,cmap=cm_bm)\n",
    "plt.title(\"$Y_{\\cdot 1}X_{\\cdot 1}^T$\")\n",
    "plt.axis('equal')\n",
    "plt.axis('off')\n",
    "plt.text(5,3, '+')\n",
    "\n",
    "plt.subplot(1,3,3)\n",
    "plt.imshow(np.outer(Y[:,1],X[:,1]),vmin = -5, vmax = 5,cmap=cm_bm)\n",
    "plt.title(\"$Y_{\\cdot 2}X_{\\cdot 2}^T$\")\n",
    "plt.axis('equal') \n",
    "plt.axis('off')\n",
    "plt.show()"
   ]
  },
  {
   "cell_type": "markdown",
   "id": "e0805cd1",
   "metadata": {},
   "source": [
    "## What Happens When We Increase the Rank?\n",
    "The rank of the matrix factorization is a hyperparameter. If we choose the rank too low, then the approximation might underfit and some of the patterns in the data remain undiscovered. If the rank is too high, then the model also approximates noise-effects from the data and overfits. Noise effects could be in the recommender setting fluctuations in the mood of the user at the time of the rating. In the setting of the matrix completion task, a too high rank also results in an approximation of the neutral rankings that are imputed for the missing values. \n",
    "\n",
    "We visualize the factorization with a rank of three below. We see that the third outer product does make some minor corrections for user 1 and 5. At this point, the information in the third outer product becomes neglectable and should not be included in the model."
   ]
  },
  {
   "cell_type": "code",
   "execution_count": 32,
   "id": "1182c291",
   "metadata": {},
   "outputs": [],
   "source": [
    "X = Vᵀ.T[:,0:3]*np.sqrt(s[0:3])\n",
    "Y = U[:,0:3]*np.sqrt(s[0:3])"
   ]
  },
  {
   "cell_type": "code",
   "execution_count": 37,
   "id": "f96adfe1",
   "metadata": {
    "tags": [
     "remove-input"
    ]
   },
   "outputs": [
    {
     "data": {
      "image/png": "[encoded data removed]",
      "text/plain": [
       "<Figure size 1296x360 with 4 Axes>"
      ]
     },
     "metadata": {
      "needs_background": "light"
     },
     "output_type": "display_data"
    }
   ],
   "source": [
    "plt.figure(2, figsize=(18, 5))\n",
    "#--------------\n",
    "plt.subplot(1,4,1)\n",
    "plt.imshow(Y@X.T,vmin = -5, vmax = 5,cmap=cm_bm)\n",
    "plt.title(\"$YX^T$\")\n",
    "plt.axis('equal')\n",
    "plt.axis('off')\n",
    "plt.text(5,3, '=')\n",
    "\n",
    "plt.subplot(1,4,2)\n",
    "plt.imshow(np.outer(Y[:,0],X[:,0]),vmin = -5, vmax = 5,cmap=cm_bm)\n",
    "plt.title(\"$Y_{\\cdot 1}X_{\\cdot 1}^T$\")\n",
    "plt.axis('equal')\n",
    "plt.axis('off')\n",
    "plt.text(5,3, '+')\n",
    "\n",
    "plt.subplot(1,4,3)\n",
    "plt.imshow(np.outer(Y[:,1],X[:,1]),vmin = -5, vmax = 5,cmap=cm_bm)\n",
    "plt.title(\"$Y_{\\cdot 2}X_{\\cdot 2}^T$\")\n",
    "plt.axis('equal')\n",
    "plt.axis('off')\n",
    "plt.text(5,3, '+')\n",
    "\n",
    "plt.subplot(1,4,4)\n",
    "plt.imshow(np.outer(Y[:,2],X[:,2]),vmin = -5, vmax = 5,cmap=cm_bm)\n",
    "plt.title(\"$Y_{\\cdot 3}X_{\\cdot 3}^T$\")\n",
    "plt.axis('equal')\n",
    "plt.axis('off')\n",
    "plt.show()"
   ]
  },
  {
   "cell_type": "markdown",
   "id": "9ab57cad",
   "metadata": {},
   "source": [
    "## Low-Rank MF on Observed Entries\n",
    "The SVD of the rating matrix with neutral rating imputations gave us some indications of possible recommendations, but an issue with this simple approach is that the imputed missing values are also approximated by the factorization. Especially when observations are sparse, which is usually the case for movie recommendations for example, then this method won't work because the actual ratings will be perceived as outliers.\n",
    "\n",
    "An idea to solve the matrix completion task more accurately is to compute a factorization that approximates only the values of observed entries.\n",
    "This approach has been used in the Netflix Price 2009 competition and made it to the top-3.\n",
    "`````{admonition} Task (Low-Rank Matrix Factorization with Missing Values)\n",
    ":class: tip\n",
    "**Given** a data matrix $D\\in\\mathbb{R}^{n\\times d}$ having observed entries $D_{ik}$ for indices $(i,k)$ where the binary indicator matrix $O\\in\\{0,1\\}^{n\\times d}$ has an entry of one $O_{ik}=1$, and a rank $r<\\min\\{n,d\\}$.     \n",
    "    \n",
    "**Find** matrices $X\\in\\mathbb{R}^{d\\times r}$ and $Y\\in\\mathbb{R}^{n\\times r}$ whose product approximates the data matrix only on observed entries:\n",
    "\\begin{align}\n",
    "    \\min_{X,Y}&\\lVert O\\circ(D- YX^\\top)\\rVert^2 +\\lambda\\lVert X\\rVert^2+\\lambda\\lVert Y\\rVert^2\\\\ \n",
    "    &=\\sum_{(i,k):O_{ik}=1}(D_{ik}-Y_{i\\cdot}X_{k\\cdot}^\\top)^2+\\lambda\\lVert X\\rVert^2+\\lambda\\lVert Y\\rVert^2\\\\ \n",
    "    \\text{s.t. }& X\\in \\mathbb{R}^{d\\times r}, Y\\in\\mathbb{R}^{n\\times r}\n",
    "\\end{align}\n",
    "**Return** the low-dimensional approximation of the data $(X,Y)$.  \n",
    "`````\n",
    "### Optimization\n",
    "The low-rank MF on observed entries can not be computed directly by SVD. However, we can derive the minimizers of one column of $X$ and $Y$ when fixing the other matrix.\n",
    "```{prf:theorem}\n",
    "The minimizers of the objective to minimize $\\lVert O\\circ(D- YX^\\top)\\rVert^2$ subject to a row of $X$ or $Y$ is given as:\n",
    "\\begin{align*}\n",
    "&D_{\\cdot k}^\\top \\diag(O_{\\cdot k})Y(Y^\\top \\diag(O_{\\cdot k}) Y+\\lambda I)^{-1}\\\\ \n",
    "&\\quad = \\argmin_{X_{k\\cdot}}\n",
    "\\lVert O\\circ(D- YX^\\top)\\rVert^2 + \\lambda\\lVert X\\rVert^2\\\\\n",
    "&D_{i\\cdot} \\diag(O_{i\\cdot})X(X^\\top \\diag(O_{i\\cdot}) X+\\lambda I)^{-1}\\\\ \n",
    "&\\quad = \\argmin_{Y_{i\\cdot}}\n",
    "\\lVert O\\circ(D- YX^\\top)\\rVert^2 + \\lambda\\lVert Y\\rVert^2\n",
    "\\end{align*}\n",
    "\n",
    "```\n",
    "````{toggle}\n",
    "```{prf:proof}\n",
    "We show the result for minimizing over $X_{k\\cdot}$, the result for $Y_{i\\cdot}$ follows by transposing the factorization. First, we observe that the minimization subject to $X_{k\\cdot}$ reduces to the minimization over the $k$-th column:\n",
    "\\begin{align*}\n",
    "\\argmin_{X_{k\\cdot}}&\n",
    "\\lVert O\\circ(D- YX^\\top)\\rVert^2 + \\lambda\\lVert X\\rVert^2\\\\\n",
    "&= \\argmin_{X_{k\\cdot}}\n",
    "\\lVert O_{\\cdot k}\\circ(D_{\\cdot k}- YX_{k\\cdot }^\\top)\\rVert^2+ \\lambda\\lVert X_{k\\cdot}\\rVert^2\n",
    "\\end{align*}\n",
    "The element-wise multiplication with the binary vector $O_{\\cdot k}$ selects the rows for which we have observed entries in column $k$. This selection of rows can also be performed with a multiplication of $\\diag(O_{\\cdot k})$ from the left. This way, we can write the objective to optimize subject to $X_{k\\cdot}$ as\n",
    "\\begin{align*}\n",
    "\\argmin_{X_{k\\cdot}}&\n",
    "\\lVert O\\circ(D- YX^\\top)\\rVert^2 + \\lambda\\lVert X\\rVert^2\\\\ \n",
    "&= \\argmin_{X_{k\\cdot}}\n",
    "\\lVert \\underbrace{\\diag(O_{\\cdot k})D_{\\cdot k}}_{=\\tilde{\\vvec{y}}}- \\underbrace{\\diag(O_{\\cdot k})Y}_{=\\tilde{X}}\\underbrace{X_{k\\cdot }^\\top}_{=\\tilde{\\beta}})\\rVert^2 + \\lambda\\lVert X\\rVert^2 \n",
    "\\end{align*}\n",
    "The objective above is equivalent to a ridge regression objective (using the notation of ridge regression, the target vector $\\tilde{\\vvec{y}}$, the design matrix $\\tilde{X}$ and the parameter vector $\\tilde{\\beta}$ are annotated above). We know the minimizer of this objective, it is given by the vector\n",
    "\\begin{align*}\n",
    "(\\tilde{X}^\\top \\tilde{X}+\\lambda I)^{-1}\\tilde{X}^\\top\\tilde{\\vvec{y}}\n",
    "&= (Y^\\top \\diag(O_{\\cdot k})^2 Y +\\lambda I)^{-1} Y^\\top\\diag(O_{\\cdot k})^2D_{\\cdot k}\\\\\n",
    "&=(Y^\\top \\diag(O_{\\cdot k}) Y +\\lambda I)^{-1} Y^\\top\\diag(O_{\\cdot k})D_{\\cdot k}\n",
    "\\end{align*}\n",
    "where the last equation follows from the fact that binary values do not change when they are squared.\n",
    "```\n",
    "````\n",
    "The theorem above motivates a block-coordinate descent approach, where we go in every iteration through each column of $X$ and $Y$ and update it. This procedure is described in the algorithm below.\n",
    "```{prf:algorithm} MatrixCompletion\n",
    "\n",
    "**Input**: the dataset $D$, rank $r$, maximum number of iterations $t_{max} = 100$, and regularization weight  $\\lambda = 0.1$\n",
    "1. $(X, Y) \\gets$ `InitRandom`$(n, d, r)$ \n",
    "2. $O \\gets$ `IndicatorObserved`$(D)$\n",
    "2. **for** $t\\in\\{1,\\ldots,t_{max}\\}$\n",
    "    1. **for** $k \\in \\{1, \\ldots, d\\}$\n",
    "        1. $X_{k\\cdot} \\leftarrow D_{\\cdot k}^{\\top} \\diag(O_{\\cdot k})Y (Y^{\\top} \\diag(O_{\\cdot k}) Y + \\lambda I)^{-1}$\n",
    "    2. **for** $i \\in \\{1, \\ldots, n\\}$\n",
    "        1. $Y_{i\\cdot} \\leftarrow D_{i\\cdot}\\diag(O_{i\\cdot}) X (X^{\\top} \\diag(O_{i\\cdot}) X + \\lambda I)^{-1}$\n",
    "3. **return** $(X,Y)$\n",
    "```"
   ]
  },
  {
   "cell_type": "markdown",
   "id": "9b690835",
   "metadata": {},
   "source": [
    "### From Unsupervised Matrix Completion to Supervised Behavioral Modeling\n",
    "\n",
    "Early recommender systems, such as those based on matrix factorization, are traditionally framed as unsupervised learning problems. The central task is to complete a sparse user-item rating matrix by learning latent factors that explain the observed ratings. This process resembled dimensionality reduction (e.g., via SVD), and the goal was to estimate the missing entries as accurately as possible.\n",
    "\n",
    "However, this perspective has shifted in modern systems.\n",
    "Today, most recommendation systems rely not on explicit ratings, but on **implicit feedback**:\n",
    "\n",
    "- Clicks, taps, swipes\n",
    "- Watch time or scroll depth\n",
    "- Song plays, skips, replays\n",
    "- Add-to-cart or wishlist events\n",
    "\n",
    "These behaviors are logged at scale, and treated as training signals for supervised learning. The recommendation problem becomes:\n",
    "\n",
    "> _Given past behavior, predict whether a user will interact with an item._\n",
    "\n",
    "This makes modern recommendation fundamentally a prediction task, rather than a pure matrix completion task. Reformulating the unsupervised recommender system task into a supervised one has the advantages that we can test the performance. In addition, it provides guidance to the model in terms of what makes a user hooked to the screen, which is generally easier to monetize than solving the more general task to provide good recommendations."
   ]
  }
 ],
 "metadata": {
  "celltoolbar": "Tags",
  "kernelspec": {
   "display_name": "Python 3 (ipykernel)",
   "language": "python",
   "name": "python3"
  },
  "language_info": {
   "codemirror_mode": {
    "name": "ipython",
    "version": 3
   },
   "file_extension": ".py",
   "mimetype": "text/x-python",
   "name": "python",
   "nbconvert_exporter": "python",
   "pygments_lexer": "ipython3",
   "version": "3.9.13"
  }
 },
 "nbformat": 4,
 "nbformat_minor": 5
}
