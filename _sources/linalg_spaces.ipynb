{
 "cells": [
  {
   "cell_type": "markdown",
   "id": "c4c365d9",
   "metadata": {},
   "source": [
    "## Vector Spaces\n",
    "\n",
    "````{prf:definition}\n",
    "A **vector space** over the real numbers is a set of vectors $\\mathcal{V}$ with two operations $+$ and $\\cdot$ such that the following properties hold: \n",
    "* Addition: for $\\vvec{v},\\vvec{w}$ we have $\\vvec{v}+\\vvec{w}\\in\\mathcal{V}$. The set of vectors with the addition $(\\mathcal{V},+)$ is an abelian group.\n",
    "* Scalar multiplication: for $\\alpha\\in\\mathbb{R}$ and $\\vvec{v}\\in\\mathcal{V}$, we have $\\alpha\\vvec{v}\\in\\mathcal{V}$ such that the following properties hold:\n",
    "     - $\\alpha(\\beta\\vvec{v}) = (\\alpha\\beta) \\vvec{v}$ for $\\alpha,\\beta\\in\\mathbb{R}$ and $\\vvec{v}\\in\\mathcal{V}$\n",
    "     - $1\\vvec{v}=\\vvec{v}$ for $\\vvec{v}\\in\\mathcal{V}$\n",
    "* Distributivity: the following properties hold:\n",
    "     - $(\\alpha + \\beta)\\vvec{v} = \\alpha\\vvec{v} +\\beta \\vvec{v}$ for $\\alpha,\\beta\\in\\mathbb{R}$ and $\\vvec{v}\\in\\mathcal{V}$\n",
    "     - $\\alpha (\\vvec{v}+\\vvec{w})=\\alpha \\vvec{v}+\\alpha\\vvec{w}$ for $\\alpha\\in\\mathbb{R}$ and $\\vvec{v},\\vvec{w}\\in\\mathcal{V}$\n",
    "````\n",
    "\n",
    "A vector space is a structure where you can do most operations you know from real numbers, but not all. Let $\\alpha\\in\\mathbb{R}, \\vvec{v},\\vvec{w}\\in\\mathcal{V}$. The following operations are well-defined:\n",
    "* $\\vvec{v}/\\alpha = \\frac1\\alpha \\vvec{v}$ for $\\alpha\\neq 0$\n",
    "* $\\vvec{v}-\\vvec{w}$     \n",
    "However, the vector-vector product is not per se defined in a vector space and likewise, you can also not divide by a vector. \n",
    "* $\\vvec{v}\\cdot \\vvec{w}$\n",
    "* $\\alpha/\\vvec{v}$\n",
    "\n",
    "````{prf:theorem} $\\mathbb{R}^d$ is a vector space\n",
    "The elements of the space $\\mathbb{R}^d$ are defined as $d$-dimensional vectors\n",
    "$$\\vvec{v} = \\begin{pmatrix}v_1\\\\\\vdots\\\\v_d\\end{pmatrix},\\quad v_i\\in\\mathbb{R} \\text{ for } 1\\leq i \\leq d, $$\n",
    "whose addition and the scalar multiplication are defined for $\\vvec{v},\\vvec{w}\\in\\mathbb{R}^d$ and $\\alpha\\in\\mathbb{R}$ as follows:\n",
    "\\begin{align*}\n",
    "    \\vvec{v}+\\vvec{w} = \\begin{pmatrix}v_1+w_1\\\\\\vdots\\\\v_d+w_d\\end{pmatrix},\n",
    "    \\alpha\\vvec{v} = \\begin{pmatrix}\\alpha v_1\\\\\\vdots\\\\\\alpha v_d\\end{pmatrix} \n",
    "\\end{align*}\n",
    "The space $\\mathbb{R}^d$ is a vector space.\n",
    "````\n",
    "````{prf:example} The geometry of $\\mathbb{R}^2$\n",
    ":label: ex_vector_space\n",
    "```{tikz}\n",
    "\\begin{tikzpicture}\n",
    "\\begin{axis}[\n",
    "    \t%height=\\textwidth,\n",
    "    \twidth=.5\\textwidth,\n",
    "    \txmin=-0.1, xmax=4, % set the min and max values of the x-axis\n",
    "    \taxis lines=center, %set the position of the axes\n",
    "    \tymin=-0.1, ymax=4,\n",
    "    \txlabel=$x_1$, % label x axis\n",
    "        ylabel=$x_2$, % label y axis\n",
    "        %xtick=\\empty, ytick=\\empty,\n",
    "        scale only axis=true,\n",
    "]\n",
    "\\draw [->, ultra thick,  green] (axis cs:0,0) -- (axis cs:1,3) node[left]{$2\\mathbf{v}$};\n",
    "\\draw [->, ultra thick,  magenta] (axis cs:0,0) -- (axis cs:0.5,1.5) node[left]{$\\mathbf{v}$};\n",
    "\\draw [->, ultra thick,  yellow] (axis cs:0,0) -- (axis cs:2,0.5) node[below]{$\\mathbf{w}$};\n",
    "\\draw [->, ultra thick,  blue] (axis cs:0,0) -- (axis cs:2.5,2) node[right]{$\\mathbf{v}+\\mathbf{w}$};\n",
    "\\draw [-, ultra thick, dashed, black] (axis cs:0.5,1.5) -- (axis cs:2.5,2); %node[right]{$\\mathbf{v}+\\mathbf{w}$};\n",
    "\\draw [-, ultra thick, dashed, black] (axis cs:2,0.5) -- (axis cs:2.5,2); \n",
    "\\end{axis}\n",
    "\\end{tikzpicture}\n",
    "```\n",
    "\\begin{align*}\n",
    "     \\vvec{v} &= \\begin{pmatrix}0.5\\\\1.5\\end{pmatrix}\n",
    "     &\\vvec{w} &= \\begin{pmatrix}2\\\\0.5\\end{pmatrix}\n",
    "     &\\vvec{v}+\\vvec{w} &= \\begin{pmatrix}2.5\\\\2\\end{pmatrix}\n",
    "     &2\\vvec{v} &= \\begin{pmatrix}1\\\\3\\end{pmatrix}\n",
    " \\end{align*}\n",
    "````\n",
    "Are there other important vector spaces next to $\\mathbb{R}^d$?\n",
    "Yes, the vector space of matrices $\\mathbb{R}^{n\\times d}.$\n",
    "Why are matrices important?\n",
    "Because data is represented as a matrix. A data table of $n$ observations of $d$ features is represented by a $(n\\times d)$ matrix.\n",
    "\n",
    "|ID | $\\mathtt{x}_1$ | $\\mathtt{x}_2$ | $\\mathtt{x}_3$ | $\\ldots$ | $\\mathtt{x}_d$|\n",
    "|---|----------------|----------------|----------------|----------|---------------|\n",
    "|1  |5.1 | 3.5 | 1.4 | $\\ldots$ | 0.2 |\n",
    "|2 | 6.4 | 3.5 | 4.5 | $\\ldots$ | 1.2 |\n",
    "|$\\vdots$ | $\\vdots$ | $\\vdots$ | $\\vdots$ | $\\vdots$ | $\\vdots$|\n",
    "|$n$|5.9 | 3.0 | 5.0 | $\\ldots$ | 1.8 |\n",
    "\n",
    "An $(n\\times d)$ matrix concatenates $n$ $d$-dimensional vectors column-wise ($A_{\\cdot j}$ denotes the column-vector $j$ of $A$)\n",
    "\\begin{align*}\n",
    "    A= \\begin{pmatrix}\n",
    "        \\vert & & \\vert\\\\\n",
    "       A_{\\cdot 1}&\\ldots & A_{\\cdot d}\\\\\n",
    "\\vert & & \\vert\n",
    "\\end{pmatrix}\n",
    "=\\begin{pmatrix}\n",
    "        A_{11 } & \\ldots& A_{1d}\\\\\n",
    "       \\vdots& & \\vdots\\\\\n",
    "A_{n1} &\\ldots & A_{nd} \n",
    "\\end{pmatrix}\n",
    "\\end{align*}\n",
    "Simultaneously, we can see a matrix as concatenation of $d$ row-vectors ($A_{i\\cdot}$):\n",
    "\\begin{align*}\n",
    "    A= \\begin{pmatrix}\n",
    "        - & A_{1\\cdot} & -\\\\\n",
    "       &\\vdots & \\\\\n",
    "- & A_{n\\cdot} & -\n",
    "\\end{pmatrix}\n",
    "=\\begin{pmatrix}\n",
    "        A_{11 } & \\ldots& A_{1d}\\\\\n",
    "       \\vdots& & \\vdots\\\\\n",
    "A_{n1} &\\ldots & A_{nd} \n",
    "\\end{pmatrix}\n",
    "\\end{align*}\n",
    "This notation is actuallly quite close to how we select rows and columns of matrices in Python. For example, consider the following matrix:"
   ]
  },
  {
   "cell_type": "code",
   "execution_count": 1,
   "id": "8d1d435d",
   "metadata": {},
   "outputs": [
    {
     "data": {
      "text/plain": [
       "array([[1, 2, 3],\n",
       "       [4, 5, 6],\n",
       "       [7, 8, 9]])"
      ]
     },
     "execution_count": 1,
     "metadata": {},
     "output_type": "execute_result"
    }
   ],
   "source": [
    "import numpy as np\n",
    "A=np.array([[1,2,3],[4,5,6],[7,8,9]])\n",
    "A"
   ]
  },
  {
   "cell_type": "markdown",
   "id": "1a1a1785",
   "metadata": {},
   "source": [
    "In mathematical notation, the first column would be denoted as $A_{\\cdot 1}$. In Python we write"
   ]
  },
  {
   "cell_type": "code",
   "execution_count": 2,
   "id": "e386d8eb",
   "metadata": {},
   "outputs": [
    {
     "data": {
      "text/plain": [
       "array([1, 4, 7])"
      ]
     },
     "execution_count": 2,
     "metadata": {},
     "output_type": "execute_result"
    }
   ],
   "source": [
    "A[:,0]"
   ]
  },
  {
   "cell_type": "markdown",
   "id": "7c7f8536",
   "metadata": {},
   "source": [
    "Note, that the indices differ conventionally: in mathematical notation we start with index 1 while the array indices in Python start with 0. But apart from that, both notations are quite close. The dot in the mathematical notation $A_{\\cdot 1}$ and the colon in the Python syntax `A[:,0]` indicates that we choose all row-indices. Likewise, we can select the first row $A_{\\cdot 1}$ in Python as follows:  "
   ]
  },
  {
   "cell_type": "code",
   "execution_count": 3,
   "id": "b9709ee0",
   "metadata": {},
   "outputs": [
    {
     "data": {
      "text/plain": [
       "array([1, 2, 3])"
      ]
     },
     "execution_count": 3,
     "metadata": {},
     "output_type": "execute_result"
    }
   ],
   "source": [
    "A[0,:]"
   ]
  },
  {
   "cell_type": "markdown",
   "id": "799da988",
   "metadata": {},
   "source": [
    "````{prf:example} The Vector Space $\\mathbb{R}^{n\\times d}$\n",
    "The elements of the vector space $\\mathbb{R}^{n\\times d}$ are $(n\\times d)$-dimensional matrices.\n",
    "    \n",
    "The addition between matrices and the scalar multiplication are defined for $A,B\\in\\mathbb{R}^{n\\times d}$ and $\\alpha\\in\\mathbb{R}$ as\n",
    "\\begin{align*}\n",
    "    A+B &= \\begin{pmatrix}\n",
    "        A_{11 } + B_{11} & \\ldots& A_{1d}+B_{1d}\\\\\n",
    "       \\vdots& & \\vdots\\\\\n",
    "A_{n1}+B_{n1} &\\ldots & A_{nd}+B_{nd} \n",
    "\\end{pmatrix}\\\\\n",
    "    \\alpha A &= \\begin{pmatrix}\n",
    "        \\alpha A_{11 } & \\ldots& \\alpha A_{1d}\\\\\n",
    "       \\vdots& & \\vdots\\\\\n",
    "\\alpha A_{n1} &\\ldots & \\alpha A_{nd} \n",
    "\\end{pmatrix}\n",
    "\\end{align*}\n",
    "````"
   ]
  },
  {
   "cell_type": "markdown",
   "id": "16eb53f2",
   "metadata": {},
   "source": [
    "### Matrix Operations"
   ]
  },
  {
   "cell_type": "markdown",
   "id": "fd301887",
   "metadata": {},
   "source": [
    "The **transpose** of a matrix changes row-vectors into column vectors and vice versa:\n",
    "\\begin{align*}\n",
    "    A&= \\begin{pmatrix}\n",
    "        \\vert & & \\vert\\\\\n",
    "       A_{\\cdot 1}&\\ldots & A_{\\cdot d}\\\\\n",
    "\\vert & & \\vert\n",
    "\\end{pmatrix}\n",
    "&=\\begin{pmatrix}\n",
    "        A_{11 } & \\ldots& A_{1d}\\\\\n",
    "       \\vdots& & \\vdots\\\\\n",
    "A_{n1} &\\ldots & A_{nd} \n",
    "\\end{pmatrix}\\in\\mathbb{R}^{n\\times d}\\\\\n",
    "A^\\top&= \\begin{pmatrix}\n",
    "        - & A_{\\cdot 1}^\\top & -\\\\\n",
    "       &\\vdots & \\\\\n",
    " -&A_{\\cdot d}^\\top &- \n",
    "\\end{pmatrix}\n",
    "&=\\begin{pmatrix}\n",
    "        A_{11 } & \\ldots& A_{n1}\\\\\n",
    "       \\vdots& & \\vdots\\\\\n",
    "A_{1d} &\\ldots & A_{nd} \n",
    "\\end{pmatrix}\\in\\mathbb{R}^{d\\times n}\n",
    "\\end{align*}\n",
    "The transpose of a $d$-dimensional vector has an interpretation as transpose of a $(d\\times 1)$ matrix:\n",
    "\\begin{align*}\n",
    "    v&= \\begin{pmatrix}\n",
    "        v_1\\\\\n",
    "        \\vdots\\\\\n",
    "        v_d\\\\\n",
    "\\end{pmatrix}\n",
    "&\\in\\mathbb{R}^{d\\times 1}\\\\\n",
    "v^\\top&= \\begin{pmatrix}\n",
    "        v_1 & \\ldots & v_d\n",
    "\\end{pmatrix}&\\in\\mathbb{R}^{1\\times d}\n",
    "\\end{align*}"
   ]
  },
  {
   "cell_type": "markdown",
   "id": "58467cd0",
   "metadata": {},
   "source": [
    "The transpose of the transpose returns the original matrix.\n",
    "For any matrix $A\\in\\mathbb{R}^{n\\times d}$ we have \\alert{${A^\\top}^\\top = A$"
   ]
  },
  {
   "cell_type": "code",
   "execution_count": 4,
   "id": "51c37de4",
   "metadata": {},
   "outputs": [
    {
     "data": {
      "text/plain": [
       "array([[1, 2, 3],\n",
       "       [4, 5, 6]])"
      ]
     },
     "execution_count": 4,
     "metadata": {},
     "output_type": "execute_result"
    }
   ],
   "source": [
    "A= np.array([[1 , 2 , 3],[4 , 5 , 6]])\n",
    "A"
   ]
  },
  {
   "cell_type": "code",
   "execution_count": 5,
   "id": "26e03e47",
   "metadata": {},
   "outputs": [
    {
     "data": {
      "text/plain": [
       "array([[1, 4],\n",
       "       [2, 5],\n",
       "       [3, 6]])"
      ]
     },
     "execution_count": 5,
     "metadata": {},
     "output_type": "execute_result"
    }
   ],
   "source": [
    "A.T"
   ]
  },
  {
   "cell_type": "code",
   "execution_count": 6,
   "id": "d693acd8",
   "metadata": {},
   "outputs": [
    {
     "data": {
      "text/plain": [
       "array([[1, 2, 3],\n",
       "       [4, 5, 6]])"
      ]
     },
     "execution_count": 6,
     "metadata": {},
     "output_type": "execute_result"
    }
   ],
   "source": [
    "A.T.T"
   ]
  },
  {
   "cell_type": "markdown",
   "id": "0973b08d",
   "metadata": {},
   "source": [
    "A **symmetric matrix** is a matrix $A\\in\\mathbb{R}^{n\\times n}$ such that $A^\\top = A$."
   ]
  },
  {
   "cell_type": "code",
   "execution_count": 7,
   "id": "b7b926c1",
   "metadata": {},
   "outputs": [
    {
     "data": {
      "text/plain": [
       "array([[1, 2, 3],\n",
       "       [2, 4, 5],\n",
       "       [3, 5, 6]])"
      ]
     },
     "execution_count": 7,
     "metadata": {},
     "output_type": "execute_result"
    }
   ],
   "source": [
    "A= np.array([[1 , 2 , 3],[2 , 4 , 5],[3, 5, 6]])\n",
    "A"
   ]
  },
  {
   "cell_type": "code",
   "execution_count": 8,
   "id": "cadb7d63",
   "metadata": {},
   "outputs": [
    {
     "data": {
      "text/plain": [
       "array([[1, 2, 3],\n",
       "       [2, 4, 5],\n",
       "       [3, 5, 6]])"
      ]
     },
     "execution_count": 8,
     "metadata": {},
     "output_type": "execute_result"
    }
   ],
   "source": [
    "A.T"
   ]
  },
  {
   "cell_type": "markdown",
   "id": "28a9681d",
   "metadata": {},
   "source": [
    "A **diagonal matrix** is a symmetric matrix having only nonzero elements on the diagonal:\n",
    "$$\\diag(a_1,\\ldots, a_n) = \n",
    "    \\begin{pmatrix}a_1 & 0 & \\ldots & 0 \\\\\n",
    "    0 & a_2 &\\ldots & 0\\\\\n",
    "      &     & \\ddots &\\\\\n",
    "    0 & 0   & \\ldots & a_n\\end{pmatrix}$$"
   ]
  },
  {
   "cell_type": "code",
   "execution_count": 9,
   "id": "9176d5d8",
   "metadata": {},
   "outputs": [
    {
     "data": {
      "text/plain": [
       "array([[1, 0, 0],\n",
       "       [0, 2, 0],\n",
       "       [0, 0, 3]])"
      ]
     },
     "execution_count": 9,
     "metadata": {},
     "output_type": "execute_result"
    }
   ],
   "source": [
    "np.diag([1,2,3])"
   ]
  },
  {
   "cell_type": "markdown",
   "id": "54b9930c",
   "metadata": {},
   "source": [
    "Okay, great, we can add, scale and transpose matrices/data. Isn't that kinda lame?\n",
    "Yah, it gets interesting with the matrix product."
   ]
  },
  {
   "cell_type": "markdown",
   "id": "0e6f3dde",
   "metadata": {},
   "source": [
    "### Vector and Matrix Products\n",
    "The **inner product** of two vectors $\\vvec{v},\\vvec{w}\\in\\mathbb{R}^d$ returns a scalar:\n",
    "\\begin{align*}\n",
    "\\vvec{v}^\\top\\vvec{w} = \\begin{pmatrix}v_1&\\ldots & v_d\\end{pmatrix}\\begin{pmatrix}w_1\\\\\\vdots\\\\w_d\\end{pmatrix}=\\sum_{i=1}^dv_iw_i \n",
    "\\end{align*}\n",
    "The **outer product** of two vectors $\\vvec{v}\\in\\mathbb{R}^d$ and $\\vvec{w}\\in\\mathbb{R}^n$ returns a ($d\\times n$) matrix:\n",
    "\\begin{align*}\n",
    "    \\vvec{v}\\vvec{w}^\\top = \\begin{pmatrix}v_1\\\\ \\vdots \\\\ v_d\\end{pmatrix}\\begin{pmatrix}w_1 & \\ldots &w_n\\end{pmatrix} = \n",
    "    \\begin{pmatrix} v_1\\vvec{w}^\\top\\\\\n",
    "    \\vdots\\\\\n",
    "    v_d \\vvec{w}^\\top\n",
    "    \\end{pmatrix}\n",
    "    = \\begin{pmatrix}\n",
    "     v_1w_1 &\\ldots & v_1w_n\\\\\n",
    "     \\vdots &       & \\vdots\\\\\n",
    "     v_dw_1    &\\ldots & v_dw_n     \n",
    "    \\end{pmatrix}\n",
    "\\end{align*}"
   ]
  },
  {
   "cell_type": "code",
   "execution_count": 10,
   "id": "b0754b71",
   "metadata": {},
   "outputs": [],
   "source": [
    "v = np.array([1,2,3])\n",
    "w = np.array([4,5,6])"
   ]
  },
  {
   "cell_type": "code",
   "execution_count": 11,
   "id": "47c4159d",
   "metadata": {},
   "outputs": [
    {
     "data": {
      "text/plain": [
       "32"
      ]
     },
     "execution_count": 11,
     "metadata": {},
     "output_type": "execute_result"
    }
   ],
   "source": [
    "np.inner(v,w)"
   ]
  },
  {
   "cell_type": "code",
   "execution_count": 12,
   "id": "5dea9648",
   "metadata": {},
   "outputs": [
    {
     "data": {
      "text/plain": [
       "32"
      ]
     },
     "execution_count": 12,
     "metadata": {},
     "output_type": "execute_result"
    }
   ],
   "source": [
    "np.dot(v,w)"
   ]
  },
  {
   "cell_type": "code",
   "execution_count": 24,
   "id": "69a91f15",
   "metadata": {},
   "outputs": [
    {
     "data": {
      "text/plain": [
       "32"
      ]
     },
     "execution_count": 24,
     "metadata": {},
     "output_type": "execute_result"
    }
   ],
   "source": [
    "v.T@w"
   ]
  },
  {
   "cell_type": "code",
   "execution_count": 13,
   "id": "f905ebac",
   "metadata": {},
   "outputs": [
    {
     "data": {
      "text/plain": [
       "array([[ 4,  5,  6],\n",
       "       [ 8, 10, 12],\n",
       "       [12, 15, 18]])"
      ]
     },
     "execution_count": 13,
     "metadata": {},
     "output_type": "execute_result"
    }
   ],
   "source": [
    "np.outer(v,w)"
   ]
  },
  {
   "cell_type": "markdown",
   "id": "ecbf5728",
   "metadata": {},
   "source": [
    "Given $A\\in \\mathbb{R}^{n\\times r}$ and $B\\in\\mathbb{R}^{r\\times d}$, the matrix product $C=AB\\in\\mathbb{R}^{n\\times d}$ is defined as\n",
    "$$C= \\begin{pmatrix} A_{1\\cdot}B_{\\cdot 1}&\\ldots & A_{1\\cdot}B_{\\cdot d}\\\\\n",
    "\\vdots & & \\vdots\\\\ A_{n\\cdot}B_{\\cdot 1}&\\ldots & A_{n\\cdot}B_{\\cdot d} \\end{pmatrix} = \\begin{pmatrix}-&A_{1\\cdot}&-\\\\&\\vdots&\\\\-&A_{n\\cdot}&-\\end{pmatrix} \\begin{pmatrix} \\vert& & \\vert\\\\ B_{\\cdot 1}&\\ldots&B_{\\cdot d}\\\\\\vert& & \\vert \\end{pmatrix}$$\n",
    "\n",
    "Every element $C_{ji}$ is computed by the inner product of row $j$ and column $i$ (_row-times-column_)\n",
    "$$C_{ji}=A_{j\\cdot}B_{\\cdot i} = \\sum_{s=1}^r A_{js}B_{si}$$"
   ]
  },
  {
   "cell_type": "code",
   "execution_count": 14,
   "id": "3388a821",
   "metadata": {
    "remove-cell": true,
    "tags": [
     "remove-cell"
    ]
   },
   "outputs": [],
   "source": [
    "np.set_printoptions(precision=1)"
   ]
  },
  {
   "cell_type": "code",
   "execution_count": 15,
   "id": "cf4d2b73",
   "metadata": {},
   "outputs": [],
   "source": [
    "A = np.random.rand(2,3)\n",
    "B = np.random.rand(3,5)"
   ]
  },
  {
   "cell_type": "code",
   "execution_count": 16,
   "id": "13b4412e",
   "metadata": {},
   "outputs": [
    {
     "data": {
      "text/plain": [
       "array([[0.4, 1.2, 0.5, 1.1, 0.8],\n",
       "       [0.3, 0.7, 0.2, 0.5, 0.7]])"
      ]
     },
     "execution_count": 16,
     "metadata": {},
     "output_type": "execute_result"
    }
   ],
   "source": [
    "A@B"
   ]
  },
  {
   "cell_type": "code",
   "execution_count": 17,
   "id": "f308bb4e",
   "metadata": {},
   "outputs": [
    {
     "data": {
      "text/plain": [
       "(2, 5)"
      ]
     },
     "execution_count": 17,
     "metadata": {},
     "output_type": "execute_result"
    }
   ],
   "source": [
    "(A@B).shape"
   ]
  },
  {
   "cell_type": "markdown",
   "id": "47449561",
   "metadata": {},
   "source": [
    "Given $A\\in \\mathbb{R}^{n\\times r}$ and $B\\in\\mathbb{R}^{r\\times d}$, we can also state the product $C=AB$ in terms of the outer product:\n",
    "$$C=\\sum_{s=1}^r \\begin{pmatrix} A_{1 s}B_{s1} &\\ldots & A_{1 s}B_{sd}\\\\ \\vdots & & \\vdots\\\\ A_{n s}B_{s1} &\\ldots & A_{n s}B_{sd} \\end{pmatrix} = \\begin{pmatrix} \\vert & & \\vert\\\\ A_{\\cdot 1}&\\ldots & A_{\\cdot r}\\\\ \\vert & & \\vert \\end{pmatrix} \\begin{pmatrix} - &B_{1\\cdot } & -\\\\  & \\vdots & \\\\ -& B_{r\\cdot} & -\\end{pmatrix} $$\n",
    "The matrix product is the sum of outer products of corresponding column- and row-vectors (_column-times-row_):\n",
    "$$ C =\\sum_{s=1}^r \\begin{pmatrix} \\vert\\\\ A_{\\cdot s}\\\\ \\vert  \\end{pmatrix} \\begin{pmatrix} - & B_{s\\cdot } & -\n",
    "\\end{pmatrix}=\\sum_{s=1}^r A_{\\cdot s}B_{s \\cdot}$$"
   ]
  },
  {
   "cell_type": "markdown",
   "id": "6ea81149",
   "metadata": {},
   "source": [
    "The **identity matrix** $I$ is a diagonal matrix having only ones on the diagonal:\n",
    "$$I_3 = \\begin{pmatrix} 1 & 0 & 0\\\\ 0 & 1 & 0\\\\ 0& 0& 1 \\end{pmatrix}$$\n",
    "\n",
    "Given $A\\in\\mathbb{R}^{n\\times d}$, and $I_n$ the $(n\\times n)$ identity matrix and $I_d$ the $(d\\times d)$ identity matrix, then we have\n",
    "$$I_n A = A = AI_d $$"
   ]
  },
  {
   "cell_type": "code",
   "execution_count": 18,
   "id": "d4f788bc",
   "metadata": {},
   "outputs": [
    {
     "data": {
      "text/plain": [
       "array([[1., 0., 0.],\n",
       "       [0., 1., 0.],\n",
       "       [0., 0., 1.]])"
      ]
     },
     "execution_count": 18,
     "metadata": {},
     "output_type": "execute_result"
    }
   ],
   "source": [
    "I = np.eye(3)\n",
    "I"
   ]
  },
  {
   "cell_type": "code",
   "execution_count": 19,
   "id": "acdb3b79",
   "metadata": {},
   "outputs": [
    {
     "data": {
      "text/plain": [
       "array([[0.5, 0.8, 0.4],\n",
       "       [0.7, 0.1, 0.2]])"
      ]
     },
     "execution_count": 19,
     "metadata": {},
     "output_type": "execute_result"
    }
   ],
   "source": [
    "A@I"
   ]
  },
  {
   "cell_type": "code",
   "execution_count": 20,
   "id": "fffbc91d",
   "metadata": {},
   "outputs": [
    {
     "data": {
      "text/plain": [
       "array([[0.5, 0.8, 0.4],\n",
       "       [0.7, 0.1, 0.2]])"
      ]
     },
     "execution_count": 20,
     "metadata": {},
     "output_type": "execute_result"
    }
   ],
   "source": [
    "A"
   ]
  },
  {
   "cell_type": "markdown",
   "id": "8f2f5525",
   "metadata": {},
   "source": [
    "We have for $A\\in \\mathbb{R}^{n\\times r}$,  $B\\in\\mathbb{R}^{r\\times d}$ and $C=AB$\n",
    "\\begin{align*}\n",
    "    C^\\top&= \\begin{pmatrix}\n",
    "    A_{1\\cdot}B_{\\cdot 1}&\\ldots & A_{1\\cdot}B_{\\cdot d}\\\\\n",
    "    \\vdots & & \\vdots\\\\\n",
    "    A_{n\\cdot}B_{\\cdot 1}&\\ldots & A_{n\\cdot}B_{\\cdot d}\n",
    "    \\end{pmatrix}^\\top = \n",
    "    \\begin{pmatrix}\n",
    "    A_{1\\cdot}B_{\\cdot 1}&\\ldots & A_{n\\cdot}B_{\\cdot 1}\\\\\n",
    "    \\vdots & & \\vdots\\\\\n",
    "    A_{1\\cdot}B_{\\cdot d}&\\ldots & A_{n\\cdot}B_{\\cdot d}\n",
    "    \\end{pmatrix}\n",
    "    \\\\\n",
    "    &= \\begin{pmatrix}\n",
    "    B_{\\cdot 1}^\\top A_{1\\cdot}^\\top&\\ldots & B_{\\cdot 1}^\\top A_{n\\cdot}^\\top\\\\\n",
    "    \\vdots & & \\vdots\\\\\n",
    "    B_{\\cdot d}^\\top A_{1\\cdot}^\\top &\\ldots & B_{\\cdot d}^\\top A_{n\\cdot}^\\top \n",
    "    \\end{pmatrix}= B^\\top A^\\top\n",
    "\\end{align*}\n",
    "\n",
    "If we can multiply matrices, can we then also divide by them?\n",
    "Just sometimes, if the matrix has an _inverse_."
   ]
  },
  {
   "cell_type": "markdown",
   "id": "0cee4b00",
   "metadata": {},
   "source": [
    "The **inverse matrix** to a matrix $A\\in\\mathbb{R}^{n\\times n}$ is a matrix $A^{-1}$ satisfying\n",
    "$$AA^{-1} = A^{-1}A = I$$\n",
    "Diagonal matrices with nonzero elements on the diagonal have an inverse:\n",
    "\\begin{align*}\\begin{pmatrix} 1& 0 & 0\\\\\n",
    "0 & 2 & 0\\\\\n",
    "0 & 0 & 3\\end{pmatrix}\n",
    "\\begin{pmatrix}1& 0 & 0\\\\\n",
    "0 & \\frac12 & 0\\\\\n",
    "0 & 0 & \\frac13\\end{pmatrix} = I\\end{align*}"
   ]
  },
  {
   "cell_type": "code",
   "execution_count": 21,
   "id": "718581ec",
   "metadata": {},
   "outputs": [
    {
     "data": {
      "text/plain": [
       "array([[1. , 0. , 0. ],\n",
       "       [0. , 0.5, 0. ],\n",
       "       [0. , 0. , 0.3]])"
      ]
     },
     "execution_count": 21,
     "metadata": {},
     "output_type": "execute_result"
    }
   ],
   "source": [
    "A = np.diag([1,2,3])\n",
    "np.linalg.inv(A)"
   ]
  },
  {
   "cell_type": "markdown",
   "id": "db50958a",
   "metadata": {},
   "source": [
    "In Machine Learning, almost everything is formulated in matrix notation, because matrix multiplication is computable fast and can be accelerated with Graphics Processing Units (GPUs)."
   ]
  },
  {
   "cell_type": "code",
   "execution_count": 22,
   "id": "b02fc5bc",
   "metadata": {},
   "outputs": [
    {
     "name": "stdout",
     "output_type": "stream",
     "text": [
      "Execution time of our naive implementation in seconds: 1.6141998767852783\n",
      "Execution time of the numpy implementation in seconds: 0.0013818740844726562\n"
     ]
    }
   ],
   "source": [
    "def matrix_mult(A,B):\n",
    "    C = np.zeros((A.shape[0],B.shape[1]))\n",
    "    for i in range(0,A.shape[0]):\n",
    "        for j in range(0,B.shape[1]):\n",
    "            for s in range(0,A.shape[1]):\n",
    "                C[i,j]+= A[i,s]*B[s,j]\n",
    "    return C\n",
    "A = np.random.rand(200,100)\n",
    "B = np.random.rand(100,300)\n",
    "import time\n",
    "startTime = time.time()\n",
    "matrix_mult(A,B)\n",
    "executionTime = (time.time() - startTime)\n",
    "print('Execution time of our naive implementation in seconds: ' + str(executionTime))\n",
    "startTime = time.time()\n",
    "A@B\n",
    "executionTime = (time.time() - startTime)\n",
    "print('Execution time of the numpy implementation in seconds: ' + str(executionTime))"
   ]
  },
  {
   "cell_type": "code",
   "execution_count": null,
   "id": "f1d7be91",
   "metadata": {},
   "outputs": [],
   "source": []
  }
 ],
 "metadata": {
  "celltoolbar": "Tags",
  "kernelspec": {
   "display_name": "Python 3 (ipykernel)",
   "language": "python",
   "name": "python3"
  },
  "language_info": {
   "codemirror_mode": {
    "name": "ipython",
    "version": 3
   },
   "file_extension": ".py",
   "mimetype": "text/x-python",
   "name": "python",
   "nbconvert_exporter": "python",
   "pygments_lexer": "ipython3",
   "version": "3.9.13"
  }
 },
 "nbformat": 4,
 "nbformat_minor": 5
}
