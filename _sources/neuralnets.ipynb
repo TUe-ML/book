{
 "cells": [
  {
   "cell_type": "markdown",
   "id": "e935872f-be1e-4791-a90b-e5f69d7d64b2",
   "metadata": {},
   "source": [
    "# Neural Networks\n",
    "\n",
    "Neural networks are often introduced with an appealing analogy: *they are inspired by the brain*. The term “neural network” evokes images of neurons firing, synapses adjusting, and emergent intelligence arising from complex biological computation. At a glance, artificial neural networks (ANNs) seem to mimic this process. Each **artificial neuron** takes in signals, applies a transformation (like activation), and passes output along to the next layer. Connections have **weights**, analogous to synaptic strengths. Learning involves updating these weights, not unlike **synaptic plasticity** in biological systems.\n",
    "\n",
    "This analogy has pedagogical value. It offers a rough intuition for how ANNs work: information flows, is transformed layer by layer, and leads to a decision. But beyond this basic conceptual scaffolding, the analogy quickly breaks down. **Artificial neural networks and biological brains are fundamentally different in purpose, structure, and function.**\n",
    "\n",
    "## Simplified Units vs. Real Neurons\n",
    "\n",
    "In ANNs, a \"neuron\" is a simple mathematical unit: it performs a weighted sum and applies a nonlinearity. In contrast, biological neurons exhibit complex electrical and chemical dynamics, including:\n",
    "\n",
    "- Spike-timing,\n",
    "- Nonlinear integration over dendritic trees,\n",
    "- Neurotransmitter diversity,\n",
    "- Local plasticity rules.\n",
    "\n",
    "By comparison, an artificial neuron is a **linear thresholding device**—a pale abstraction of its biological counterpart.\n",
    "\n",
    "## Learning Algorithms Are Entirely Different\n",
    "\n",
    "The human brain does not train via **backpropagation**. There is no evidence that biological systems use global error signals or gradient descent over a fixed architecture. Instead, the brain likely relies on **local learning rules** (like Hebbian learning), reinforcement signals, and neuroplasticity shaped by development and experience.\n",
    "\n",
    "Backpropagation, by contrast, is a centralized, mathematically-driven method requiring:\n",
    "\n",
    "- Global knowledge of the loss function,\n",
    "- Differentiable operations,\n",
    "- Repeated propagation of exact error signals.\n",
    "\n",
    "This algorithm is not biologically plausible, even though it works well in practice for training deep networks.\n",
    "\n",
    "\n",
    "##  Energy Efficiency and Architecture\n",
    "\n",
    "Brains are incredibly **energy-efficient**, operating at about 20 watts, yet supporting massive parallel processing across ~86 billion neurons. In contrast, modern neural networks often require **gigawatts** of compute during training, and vast datasets—orders of magnitude larger than what humans need to learn similar concepts.\n",
    "\n",
    "Architecturally, the brain is **highly recurrent and modular**, with feedback loops and specialized subsystems (visual cortex, hippocampus, etc.). Most traditional neural networks are **feedforward**, though recent models (like transformers or recurrent neural networks) incorporate more flexibility.\n",
    "\n",
    "\n",
    "##  Generalization and Robustness\n",
    "\n",
    "Despite their complexity, neural networks often generalize poorly outside their training distribution. They are sensitive to:\n",
    "\n",
    "- Small perturbations (adversarial examples),\n",
    "- Spurious correlations,\n",
    "- Shifts in data distribution.\n",
    "\n",
    "Humans, in contrast, are remarkably good at **transfer learning**, abstract reasoning, and learning from **very few examples**. A child can learn a new concept from a single demonstration—something even state-of-the-art ANNs struggle with.\n",
    "\n",
    "\n",
    "## Interpretability and Transparency\n",
    "\n",
    "Brains are complex, but we can sometimes *explain* human decisions through introspection or reasoning. Neural networks, however, are often **black boxes**. Interpretability remains an open challenge, particularly in high-stakes applications like medicine or law.\n",
    "\n",
    "Recommended Literature:\n",
    "\n",
    "**Bishop. Pattern recognition and machine learning. 2006.** Sections 5.1. Feed-forward Network Functions, 5.2. Network Training,  5.3. Error Propagation and 5.5. Regularization in Neural Networks "
   ]
  },
  {
   "cell_type": "code",
   "execution_count": null,
   "id": "635f59e3-9807-4a6c-bbe4-466b78450851",
   "metadata": {},
   "outputs": [],
   "source": []
  }
 ],
 "metadata": {
  "kernelspec": {
   "display_name": "Python 3 (ipykernel)",
   "language": "python",
   "name": "python3"
  },
  "language_info": {
   "codemirror_mode": {
    "name": "ipython",
    "version": 3
   },
   "file_extension": ".py",
   "mimetype": "text/x-python",
   "name": "python",
   "nbconvert_exporter": "python",
   "pygments_lexer": "ipython3",
   "version": "3.9.13"
  }
 },
 "nbformat": 4,
 "nbformat_minor": 5
}
