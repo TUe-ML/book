{
 "cells": [
  {
   "cell_type": "markdown",
   "id": "eb85b99d",
   "metadata": {},
   "source": [
    "(class_exercises)=\n",
    "# Exercises\n",
    "1. Show that for any p.s.d. and symmetric matrix $Q\\in\\mathbb{R}^{d\\times d},\\ Q^\\top=Q$ the function $f(\\vvec{x})=\\vvec{x}^\\top Q\\vvec{x}$ is convex. Recall that a positive semidefinite matrix (p.s.d.) $Q$ satisfies $\\vvec{x}^\\top Q\\vvec{x}\\geq 0$ for all $\\vvec{x}\\in\\mathbb{R}^d.$\n",
    "    ````{toggle}\n",
    "        The proof is very similar to the one showing that $\\lVert\\vvec{x}\\rVert^2=\\vvec{x}^\\top I\\vvec{x}$ is convex. Let $\\alpha\\in[0,1]$, then the definition of a convex function\n",
    "$$f(\\alpha\\vvec{x}+(1-\\alpha)\\vvec{z})\\leq \\alpha f(\\vvec{x})+(1-\\alpha)f(\\vvec{z})$$\n",
    "    is satisfied for the function above if\n",
    "    \\begin{align*}\n",
    "    (\\alpha\\vvec{x}+(1-\\alpha)\\vvec{z})^\\top Q(\\alpha\\vvec{x}+(1-\\alpha)\\vvec{z})\n",
    "    &= \\alpha^2\\vvec{x}^\\top Q\\vvec{x} +2\\alpha(1-\\alpha)\\vvec{x}^\\top Q\\vvec{z} +(1-\\alpha)^2\\vvec{z}^\\top Q\\vvec{z}\\\\\n",
    "    &\\leq \\alpha\\vvec{x}^\\top Q\\vvec{x} +(1-\\alpha)\\vvec{z}^\\top Q\\vvec{z}.\n",
    "    \\end{align*}\n",
    "    We subtract the terms on the left side of that equation and get\n",
    "    \\begin{align*}\n",
    "    \\alpha (1-\\alpha) \\vvec{x}^\\top Q\\vvec{x} -2\\alpha(1-\\alpha)\\vvec{z}^\\top Q\\vvec{x}+\\alpha(1-\\alpha)\\vvec{z}^\\top Q\\vvec{z}&\\geq 0\\\\\n",
    "    \\Leftrightarrow \\quad \\vvec{x}^\\top Q\\vvec{x} -2\\vvec{z}^\\top Q\\vvec{x}+\\vvec{z}^\\top Q\\vvec{z}&\\geq 0\\\\\n",
    "    \\Leftrightarrow \\quad (\\vvec{x}-\\vvec{z})^\\top Q(\\vvec{x}-\\vvec{z})&\\geq 0.\n",
    "    \\end{align*}\n",
    "    The equation above is always true, because $Q$ is p.s.d.\n",
    "    ````"
   ]
  }
 ],
 "metadata": {
  "kernelspec": {
   "display_name": "Python 3 (ipykernel)",
   "language": "python",
   "name": "python3"
  },
  "language_info": {
   "codemirror_mode": {
    "name": "ipython",
    "version": 3
   },
   "file_extension": ".py",
   "mimetype": "text/x-python",
   "name": "python",
   "nbconvert_exporter": "python",
   "pygments_lexer": "ipython3",
   "version": "3.9.13"
  }
 },
 "nbformat": 4,
 "nbformat_minor": 5
}
