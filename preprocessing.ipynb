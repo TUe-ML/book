{
 "cells": [
  {
   "cell_type": "markdown",
   "id": "c85f9902",
   "metadata": {},
   "source": [
    "# Data Preprocessing\n",
    "\n",
    "Data preprocessing is probably one of the most impactful steps in the modeling pipeline.\n",
    "The results of your models can be radically different depending on how you collect data, handle missing values, scale features in your data and split it for different uses, amongst other things.\n",
    "Think of it like cooking. Even the best chef with the finest recipe will struggle to create a great meal if they start with spoiled ingredients, uneven cuts, or improperly seasoned components.\n",
    "Your machine learning model is only as good as the data you feed it.\n",
    "\n",
    "Raw data from the real world is messy, incomplete, and often inconsistent.\n",
    "Sensors fail and produce missing readings, users skip questions in surveys, databases contain typos and outdated information, and measurements come in different units or scales.\n",
    "Without proper preprocessing, these imperfections can completely mislead your model.\n",
    "A model trained on poorly preprocessed data might learn to exploit data quirks rather than genuine patterns, leading to impressive training results that catastrophically fail on new data.\n",
    "\n",
    "The preprocessing steps we'll explore, cleaning, transforming, scaling, and splitting data, form the foundation that determines whether your sophisticated optimization algorithms and elegant model architectures will succeed or fail.\n",
    "Master these techniques, and you'll often find that a simple model with well-preprocessed data outperforms a complex model trained on raw, messy data.\n",
    "The exercises in this chapter will teach you how to choose appropriate preprocessing strategies, and implement them effectively to set your models up for success."
   ]
  }
 ],
 "metadata": {
  "kernelspec": {
   "display_name": "Python 3 (ipykernel)",
   "language": "python",
   "name": "python3"
  },
  "language_info": {
   "codemirror_mode": {
    "name": "ipython",
    "version": 3
   },
   "file_extension": ".py",
   "mimetype": "text/x-python",
   "name": "python",
   "nbconvert_exporter": "python",
   "pygments_lexer": "ipython3",
   "version": "3.9.13"
  }
 },
 "nbformat": 4,
 "nbformat_minor": 5
}
